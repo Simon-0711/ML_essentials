{
 "cells": [
  {
   "cell_type": "code",
   "execution_count": 1,
   "id": "71f1dc7b-dfe3-45a5-ab4c-3edddaa1a02d",
   "metadata": {},
   "outputs": [],
   "source": [
    "import numpy as np\n",
    "import matplotlib.pyplot as plt\n",
    "\n",
    "import torch\n",
    "import torch.optim as optim\n",
    "from torch.utils.data import DataLoader\n",
    "\n",
    "import torchvision.datasets as datasets\n",
    "import torchvision.transforms as transforms\n",
    "\n",
    "from torch.nn.functional import conv2d, max_pool2d, cross_entropy"
   ]
  },
  {
   "cell_type": "code",
   "execution_count": 2,
   "id": "aacb6e03-955e-4d61-af40-38b0f2450ef4",
   "metadata": {},
   "outputs": [],
   "source": [
    "plt.rc(\"figure, dpi=100\")\n",
    "\n",
    "batch_size=100"
   ]
  },
  {
   "cell_type": "code",
   "execution_count": 3,
   "id": "27bc6e43-01a4-47cd-b115-a3b2c8ac3cc0",
   "metadata": {},
   "outputs": [],
   "source": [
    "# transform images into normalized tensors\n",
    "\n",
    "transform = transforms.Compose([\n",
    "    transforms.ToTensor(),\n",
    "    transforms.Normalize(mean=(0.5,), std=(0.5,)),\n",
    "])\n",
    "\n",
    "train_dataset = datasets.MNIST(\n",
    "    \"./\",\n",
    "    download=True,\n",
    "    train=True,\n",
    "    transform=transform,\n",
    ")\n",
    "\n",
    "test_dataset = datasets.MNIST(\n",
    "    \"./\",\n",
    "    download=True,\n",
    "    train=False,\n",
    "    transform=transform,\n",
    ")\n",
    "\n",
    "train_dataloader = DataLoader(\n",
    "    dataset=train_dataset,\n",
    "    batch_size=batch_size,\n",
    "    shuffle=True,\n",
    "    num_workers=1,\n",
    "    pin_memory=True,\n",
    ")\n",
    "\n",
    "\n",
    "test_dataloader = DataLoader(\n",
    "    dataset=test_dataset,\n",
    "    batch_size=batch_size,\n",
    "    shuffle=False,\n",
    "    num_workers=1,\n",
    "    pin_memory=True,\n",
    ")"
   ]
  },
  {
   "cell_type": "code",
   "execution_count": 4,
   "id": "9dd1fb61-f446-4f5c-a1b5-ad989ef8b01a",
   "metadata": {},
   "outputs": [],
   "source": [
    "def init_weights(shape):\n",
    "  # kaiming He Initialization\n",
    "  std=np.sqrt(2. / shape[0])\n",
    "  w = torch.randn(size=shape) * std\n",
    "  w.requires_grad=True\n",
    "  return w\n",
    "\n",
    "def rectify(x):\n",
    "  # Rectified Linear Unit (ReLU)\n",
    "  return torch.max(torch.zeros_like(x), x)"
   ]
  },
  {
   "cell_type": "code",
   "execution_count": 5,
   "id": "b0237772-b813-49e0-8bcd-654718082947",
   "metadata": {},
   "outputs": [],
   "source": [
    "class RMSprop(optim.Optimizer):\n",
    "    \"\"\"\n",
    "    This is a reduced version of the PyTorch internal RMSprop optimizer\n",
    "    It serves here as an example\n",
    "    \"\"\"\n",
    "    def __init__(self, params, lr=1e-3, alpha=0.5, eps=1e-8):\n",
    "        defaults = dict(lr=lr, alpha=alpha, eps=eps)\n",
    "        super(RMSprop, self).__init__(params, defaults)\n",
    "\n",
    "    def step(self):\n",
    "        for group in self.param_groups:\n",
    "            for p in group['params']:\n",
    "                grad = p.grad.data\n",
    "                state = self.state[p]\n",
    "\n",
    "                # state initialization\n",
    "                if len(state) == 0:\n",
    "                    state['square_avg'] = torch.zeros_like(p.data)\n",
    "\n",
    "                square_avg = state['square_avg']\n",
    "                alpha = group['alpha']\n",
    "\n",
    "                # update running averages\n",
    "                square_avg.mul_(alpha).addcmul_(grad, grad, value=1 - alpha)\n",
    "                avg = square_avg.sqrt().add_(group['eps'])\n",
    "\n",
    "                # gradient update\n",
    "                p.data.addcdiv_(grad, avg, value=-group['lr'])\n",
    "\n",
    "\n",
    "# define the neural network\n",
    "def model(x, w_h, w_h2, w_o):\n",
    "    h = rectify(x @ w_h)\n",
    "    h2 = rectify(h @ w_h2)\n",
    "    pre_softmax = h2 @ w_o\n",
    "    return pre_softmax"
   ]
  },
  {
   "cell_type": "markdown",
   "id": "148dd569-7174-4106-bf03-d04cf471549b",
   "metadata": {},
   "source": [
    "### Dropout function for Task 2"
   ]
  },
  {
   "cell_type": "markdown",
   "id": "a33937a5",
   "metadata": {},
   "source": [
    "<div style=\"color: green; font-weight: bold\">Essentially the same as sample solution.</div>"
   ]
  },
  {
   "cell_type": "code",
   "execution_count": 10,
   "id": "1eb4d8c8-fa89-4995-82bc-d35e5b9de8cd",
   "metadata": {},
   "outputs": [],
   "source": [
    "# def dropout(X, p_drop=0.5):\n",
    "#     if 0 < p_drop < 1:\n",
    "#         mask = np.random.binomial(1, p=p_drop, size=X.shape)  # Generate a binary mask\n",
    "#         dropped_X = np.where(mask == 1, 0, X / (1 - p_drop))   # Apply dropout mask and scale non-dropped elements\n",
    "#         return dropped_X\n",
    "#     else:\n",
    "#         return X\n",
    "\n",
    "def dropout(X, p_drop=0.5):\n",
    "    if 0 < p_drop < 1:\n",
    "        mask = torch.bernoulli(torch.ones_like(X) * (1 - p_drop))  # Generate a binary mask\n",
    "        dropped_X = torch.where(mask == 1, torch.zeros_like(X), X / (1 - p_drop))   # Apply dropout mask and scale non-dropped elements\n",
    "        return dropped_X\n",
    "    else:\n",
    "        return X"
   ]
  },
  {
   "cell_type": "markdown",
   "id": "b28a8c69",
   "metadata": {},
   "source": [
    "<div style=\"color: green; font-weight: bold\">\n",
    "\n",
    "Execution of Task 1 in section of task 2 --> confusing. \n",
    "\n",
    "</div>"
   ]
  },
  {
   "cell_type": "code",
   "execution_count": 7,
   "id": "6c19b1da-c06e-4c19-bfcd-57ed79dda02c",
   "metadata": {},
   "outputs": [
    {
     "name": "stdout",
     "output_type": "stream",
     "text": [
      "Epoch: 0\n",
      "Mean Train Loss: 3.97e-01\n",
      "Mean Test Loss:  1.68e-01\n",
      "Epoch: 10\n",
      "Mean Train Loss: 1.47e-01\n",
      "Mean Test Loss:  2.62e-01\n",
      "Epoch: 20\n",
      "Mean Train Loss: 8.95e-02\n",
      "Mean Test Loss:  5.02e-01\n",
      "Epoch: 30\n",
      "Mean Train Loss: 6.69e-02\n",
      "Mean Test Loss:  6.55e-01\n",
      "Epoch: 40\n",
      "Mean Train Loss: 5.25e-02\n",
      "Mean Test Loss:  6.99e-01\n",
      "Epoch: 50\n",
      "Mean Train Loss: 3.54e-02\n",
      "Mean Test Loss:  9.90e-01\n",
      "Epoch: 60\n",
      "Mean Train Loss: 2.45e-02\n",
      "Mean Test Loss:  7.82e-01\n",
      "Epoch: 70\n",
      "Mean Train Loss: 2.33e-02\n",
      "Mean Test Loss:  7.72e-01\n",
      "Epoch: 80\n",
      "Mean Train Loss: 2.00e-02\n",
      "Mean Test Loss:  8.03e-01\n",
      "Epoch: 90\n",
      "Mean Train Loss: 1.89e-02\n",
      "Mean Test Loss:  9.18e-01\n",
      "Epoch: 100\n",
      "Mean Train Loss: 1.18e-02\n",
      "Mean Test Loss:  8.72e-01\n"
     ]
    }
   ],
   "source": [
    "# initialize weights\n",
    "\n",
    "# input shape is (B, 784)\n",
    "w_h = init_weights((784, 625))\n",
    "# hidden layer with 625 neurons\n",
    "w_h2 = init_weights((625, 625))\n",
    "# hidden layer with 625 neurons\n",
    "w_o = init_weights((625, 10))\n",
    "# output shape is (B, 10)\n",
    "\n",
    "optimizer = RMSprop(params=[w_h, w_h2, w_o])\n",
    "\n",
    "\n",
    "n_epochs = 100\n",
    "\n",
    "train_loss = []\n",
    "test_loss = []\n",
    "\n",
    "# put this into a training loop over 100 epochs\n",
    "for epoch in range(n_epochs + 1):\n",
    "    train_loss_this_epoch = []\n",
    "    for idx, batch in enumerate(train_dataloader):\n",
    "        x, y = batch\n",
    "\n",
    "        # our model requires flattened input\n",
    "        x = x.reshape(batch_size, 784)\n",
    "        # feed input through model\n",
    "        noise_py_x = model(x, w_h, w_h2, w_o)\n",
    "\n",
    "        # reset the gradient\n",
    "        optimizer.zero_grad()\n",
    "\n",
    "        # the cross-entropy loss function already contains the softmax\n",
    "        loss = cross_entropy(noise_py_x, y, reduction=\"mean\")\n",
    "\n",
    "        train_loss_this_epoch.append(float(loss))\n",
    "\n",
    "        # compute the gradient\n",
    "        loss.backward()\n",
    "        # update weights\n",
    "        optimizer.step()\n",
    "\n",
    "    train_loss.append(np.mean(train_loss_this_epoch))\n",
    "\n",
    "    # test periodically\n",
    "    if epoch % 10 == 0:\n",
    "        print(f\"Epoch: {epoch}\")\n",
    "        print(f\"Mean Train Loss: {train_loss[-1]:.2e}\")\n",
    "        test_loss_this_epoch = []\n",
    "\n",
    "        # no need to compute gradients for validation\n",
    "        with torch.no_grad():\n",
    "            for idx, batch in enumerate(test_dataloader):\n",
    "                x, y = batch\n",
    "                x = x.reshape(batch_size, 784)\n",
    "                noise_py_x = model(x, w_h, w_h2, w_o)\n",
    "\n",
    "                loss = cross_entropy(noise_py_x, y, reduction=\"mean\")\n",
    "                test_loss_this_epoch.append(float(loss))\n",
    "\n",
    "        test_loss.append(np.mean(test_loss_this_epoch))\n",
    "\n",
    "        print(f\"Mean Test Loss:  {test_loss[-1]:.2e}\")\n"
   ]
  },
  {
   "cell_type": "code",
   "execution_count": 8,
   "id": "b513df06-a1d1-4253-a918-2de4a097ddce",
   "metadata": {},
   "outputs": [
    {
     "data": {
      "text/plain": [
       "<matplotlib.legend.Legend at 0x1e666e4e590>"
      ]
     },
     "execution_count": 8,
     "metadata": {},
     "output_type": "execute_result"
    },
    {
     "data": {
      "image/png": "[encoded data removed]",
      "text/plain": [
       "<Figure size 432x288 with 1 Axes>"
      ]
     },
     "metadata": {
      "needs_background": "light"
     },
     "output_type": "display_data"
    }
   ],
   "source": [
    "plt.plot(np.arange(n_epochs + 1), train_loss, label=\"Train\")\n",
    "plt.plot(np.arange(1, n_epochs + 2, 10), test_loss, label=\"Test\")\n",
    "plt.title(\"Train and Test Loss over Training\")\n",
    "plt.xlabel(\"Epoch\")\n",
    "plt.ylabel(\"Loss\")\n",
    "plt.legend()"
   ]
  },
  {
   "cell_type": "markdown",
   "id": "6ee7b521",
   "metadata": {},
   "source": [
    "<div style=\"color: green; font-weight: bold\">\n",
    "\n",
    "Dropout applied during training not in the model calculation function. However, correct solution and plot.\n",
    "\n",
    "</div>"
   ]
  },
  {
   "cell_type": "code",
   "execution_count": 11,
   "id": "63b3214b-c22d-43be-baff-47f4768e70a5",
   "metadata": {},
   "outputs": [
    {
     "name": "stdout",
     "output_type": "stream",
     "text": [
      "Epoch: 0\n",
      "Mean Train Loss: 6.20e-01\n",
      "Mean Test Loss:  2.38e-01\n",
      "Epoch: 10\n",
      "Mean Train Loss: 3.12e-01\n",
      "Mean Test Loss:  1.50e-01\n",
      "Epoch: 20\n",
      "Mean Train Loss: 2.88e-01\n",
      "Mean Test Loss:  1.44e-01\n",
      "Epoch: 30\n",
      "Mean Train Loss: 2.75e-01\n",
      "Mean Test Loss:  1.32e-01\n",
      "Epoch: 40\n",
      "Mean Train Loss: 2.37e-01\n",
      "Mean Test Loss:  1.27e-01\n",
      "Epoch: 50\n",
      "Mean Train Loss: 2.40e-01\n",
      "Mean Test Loss:  1.66e-01\n",
      "Epoch: 60\n",
      "Mean Train Loss: 2.26e-01\n",
      "Mean Test Loss:  1.15e-01\n",
      "Epoch: 70\n",
      "Mean Train Loss: 2.31e-01\n",
      "Mean Test Loss:  1.68e-01\n",
      "Epoch: 80\n",
      "Mean Train Loss: 2.05e-01\n",
      "Mean Test Loss:  1.35e-01\n",
      "Epoch: 90\n",
      "Mean Train Loss: 2.24e-01\n",
      "Mean Test Loss:  1.20e-01\n",
      "Epoch: 100\n",
      "Mean Train Loss: 2.33e-01\n",
      "Mean Test Loss:  1.51e-01\n"
     ]
    }
   ],
   "source": [
    "# initialize weights\n",
    "\n",
    "# input shape is (B, 784)\n",
    "w_h = init_weights((784, 625))\n",
    "# hidden layer with 625 neurons\n",
    "w_h2 = init_weights((625, 625))\n",
    "# hidden layer with 625 neurons\n",
    "w_o = init_weights((625, 10))\n",
    "# output shape is (B, 10)\n",
    "\n",
    "optimizer = RMSprop(params=[w_h, w_h2, w_o])\n",
    "\n",
    "\n",
    "n_epochs = 100\n",
    "\n",
    "train_loss = []\n",
    "test_loss = []\n",
    "\n",
    "# put this into a training loop over 100 epochs\n",
    "for epoch in range(n_epochs + 1):\n",
    "    train_loss_this_epoch = []\n",
    "    for idx, batch in enumerate(train_dataloader):\n",
    "        x, y = batch\n",
    "\n",
    "        # our model requires flattened input\n",
    "        x = x.reshape(batch_size, 784)\n",
    "        \n",
    "        #-----------------------------\n",
    "        # apply dropout\n",
    "        dropped_X = dropout(x, p_drop=0.5)\n",
    "        #-------------------------------\n",
    "        \n",
    "        # feed input through model\n",
    "        noise_py_x = model(dropped_X, w_h, w_h2, w_o)\n",
    "\n",
    "        # reset the gradient\n",
    "        optimizer.zero_grad()\n",
    "\n",
    "        # the cross-entropy loss function already contains the softmax\n",
    "        loss = cross_entropy(noise_py_x, y, reduction=\"mean\")\n",
    "\n",
    "        train_loss_this_epoch.append(float(loss))\n",
    "\n",
    "        # compute the gradient\n",
    "        loss.backward()\n",
    "        # update weights\n",
    "        optimizer.step()\n",
    "\n",
    "    train_loss.append(np.mean(train_loss_this_epoch))\n",
    "\n",
    "    # test periodically\n",
    "    if epoch % 10 == 0:\n",
    "        print(f\"Epoch: {epoch}\")\n",
    "        print(f\"Mean Train Loss: {train_loss[-1]:.2e}\")\n",
    "        test_loss_this_epoch = []\n",
    "\n",
    "        # no need to compute gradients for validation\n",
    "        with torch.no_grad():\n",
    "            for idx, batch in enumerate(test_dataloader):\n",
    "                x, y = batch\n",
    "                x = x.reshape(batch_size, 784)\n",
    "                noise_py_x = model(x, w_h, w_h2, w_o)\n",
    "\n",
    "                loss = cross_entropy(noise_py_x, y, reduction=\"mean\")\n",
    "                test_loss_this_epoch.append(float(loss))\n",
    "\n",
    "        test_loss.append(np.mean(test_loss_this_epoch))\n",
    "\n",
    "        print(f\"Mean Test Loss:  {test_loss[-1]:.2e}\")\n"
   ]
  },
  {
   "cell_type": "markdown",
   "id": "ac85dba5",
   "metadata": {},
   "source": [
    "<div style=\"color: green; font-weight: bold\">\n",
    "\n",
    "Performance is better than sample solution.\n",
    "\n",
    "</div>"
   ]
  },
  {
   "cell_type": "code",
   "execution_count": null,
   "id": "5eda47fc-f4db-4780-88ee-f0b42926180a",
   "metadata": {},
   "outputs": [
    {
     "data": {
      "text/plain": [
       "<matplotlib.legend.Legend at 0x1e666de9450>"
      ]
     },
     "execution_count": 12,
     "metadata": {},
     "output_type": "execute_result"
    },
    {
     "data": {
      "image/png": "[encoded data removed]",
      "text/plain": [
       "<Figure size 432x288 with 1 Axes>"
      ]
     },
     "metadata": {
      "needs_background": "light"
     },
     "output_type": "display_data"
    }
   ],
   "source": [
    "# plotting after drop\n",
    "plt.plot(np.arange(n_epochs + 1), train_loss, label=\"Train\")\n",
    "plt.plot(np.arange(1, n_epochs + 2, 10), test_loss, label=\"Test\")\n",
    "plt.title(\"Train and Test Loss over Training\")\n",
    "plt.xlabel(\"Epoch\")\n",
    "plt.ylabel(\"Loss\")\n",
    "plt.legend()"
   ]
  },
  {
   "cell_type": "markdown",
   "id": "2871b135",
   "metadata": {},
   "source": [
    "<div style=\"color: green; font-weight: bold\">\n",
    "\n",
    "Includes sample solution and gives even more information.\n",
    "\n",
    "</div>"
   ]
  },
  {
   "cell_type": "markdown",
   "id": "0e204f06-9a63-48d3-b034-07f92a00976f",
   "metadata": {},
   "source": [
    "The dropout function is a regularization technique commonly used in neural networks to reduce overfitting. It randomly sets a fraction of the input elements to zero during training.\n",
    "Explaination of how the dropout function works and reduces overfitting:\n",
    "\n",
    "1. Dropout during Training:\n",
    "- During training, for each element in the input tensor X, the function generates a binary mask using a random process. The mask has the same shape as X and contains values of either 1 or 0.\n",
    "- The probability of setting an element to 1 in the mask is determined by the dropout probability p_drop. For example, if p_drop = 0.5, there is a 50% chance of an element being set to 1.\n",
    "- The binary mask is element-wise multiplied with X. If an element in the mask is 1, the corresponding element in X is set to zero; otherwise, it remains unchanged.\n",
    "- By randomly zeroing out elements in X during each training step, the dropout function creates different \"thinned\" versions of the network. This helps prevent the network from relying too much on specific input features and encourages it to learn more robust and general representations.\n",
    "\n",
    "2. Scaling during Testing:\n",
    "- During testing or inference, when the model is making predictions, dropout is not applied. Instead, the original input tensor X is returned without any modifications.\n",
    "- However, to ensure that the expected value of the output remains the same during testing as during training, the non-dropped elements in X are scaled by a factor of (1 - p_drop). This scaling compensates for the fact that some elements were randomly set to zero during training.\n",
    "- Scaling during testing helps ensure that the model's predictions are consistent and not affected by dropout, allowing the model to generalize well to unseen data.\n",
    "\n",
    "\n",
    "How the function reduces overfitting:\n",
    "- Dropout acts as a form of regularization by reducing the model's reliance on individual neurons or specific combinations of features during training. This, in turn, helps prevent overfitting.\n",
    "- By randomly dropping out neurons during each training step, dropout creates an ensemble of thinned networks that work in parallel. Each thinned network only has access to a fraction of the neurons, forcing them to learn more robust representations.\n",
    "- Dropout essentially forces the network to learn redundant representations and encourages the sharing of information among neurons. This helps prevent complex co-adaptations between neurons and encourages the network to generalize better to unseen data.\n",
    "- Dropout can be seen as a way to introduce noise or perturbations into the training process, making the network more robust to noise in the input data.\n",
    "- Dropout can also be viewed as a way to prevent overfitting by approximating model averaging. During training, each thinned network is trained independently, and during testing, the outputs of all thinned networks are averaged to get the final prediction. This approximation of model averaging helps reduce the variance of the model's predictions."
   ]
  },
  {
   "cell_type": "markdown",
   "id": "175caa22-224a-46a2-bd95-b9a691c3ddab",
   "metadata": {},
   "source": [
    "### Dropout Model"
   ]
  },
  {
   "cell_type": "markdown",
   "id": "8c032d50",
   "metadata": {},
   "source": [
    "<div style=\"color: green; font-weight: bold\">Essentially the same as sample solution.</div>"
   ]
  },
  {
   "cell_type": "code",
   "execution_count": 17,
   "id": "1329fe85-aa71-4d3d-85f3-ed77b069c695",
   "metadata": {},
   "outputs": [],
   "source": [
    "def dropout_model(X, w_h, w_h2, w_o, p_drop_input, p_drop_hidden):\n",
    "    # Dropout at the input layer\n",
    "    X_dropped = dropout(X, p_drop_input)\n",
    "\n",
    "    # Hidden layer 1\n",
    "    h = rectify(X_dropped @ w_h)\n",
    "    h_dropped = dropout(h, p_drop_hidden)\n",
    "\n",
    "    # Hidden layer 2\n",
    "    h2 = rectify(h_dropped @ w_h2)\n",
    "    h2_dropped = dropout(h2, p_drop_hidden)\n",
    "\n",
    "    # Output layer\n",
    "    pre_softmax = torch.matmul(h2_dropped, w_o)\n",
    "    return pre_softmax"
   ]
  },
  {
   "cell_type": "markdown",
   "id": "88f43471",
   "metadata": {},
   "source": [
    "<div style=\"color: green; font-weight: bold\">Essentially the same as sample solution.</div>"
   ]
  },
  {
   "cell_type": "code",
   "execution_count": 19,
   "id": "7c6e448e-eda8-43db-84ee-9df280adaa45",
   "metadata": {},
   "outputs": [
    {
     "name": "stdout",
     "output_type": "stream",
     "text": [
      "Epoch: 0\n",
      "Mean Train Loss: 1.29e+00\n",
      "Mean Test Loss:  3.08e+00\n",
      "Epoch: 10\n",
      "Mean Train Loss: 7.75e-01\n",
      "Mean Test Loss:  2.79e+00\n",
      "Epoch: 20\n",
      "Mean Train Loss: 8.18e-01\n",
      "Mean Test Loss:  3.27e+00\n",
      "Epoch: 30\n",
      "Mean Train Loss: 8.20e-01\n",
      "Mean Test Loss:  3.50e+00\n",
      "Epoch: 40\n",
      "Mean Train Loss: 8.68e-01\n",
      "Mean Test Loss:  3.62e+00\n",
      "Epoch: 50\n",
      "Mean Train Loss: 8.93e-01\n",
      "Mean Test Loss:  3.72e+00\n",
      "Epoch: 60\n",
      "Mean Train Loss: 9.00e-01\n",
      "Mean Test Loss:  3.99e+00\n",
      "Epoch: 70\n",
      "Mean Train Loss: 9.42e-01\n",
      "Mean Test Loss:  3.94e+00\n",
      "Epoch: 80\n",
      "Mean Train Loss: 9.65e-01\n",
      "Mean Test Loss:  4.27e+00\n",
      "Epoch: 90\n",
      "Mean Train Loss: 9.83e-01\n",
      "Mean Test Loss:  4.21e+00\n",
      "Epoch: 100\n",
      "Mean Train Loss: 1.00e+00\n",
      "Mean Test Loss:  4.29e+00\n"
     ]
    }
   ],
   "source": [
    "# initialize weights\n",
    "\n",
    "# input shape is (B, 784)\n",
    "w_h = init_weights((784, 625))\n",
    "# hidden layer with 625 neurons\n",
    "w_h2 = init_weights((625, 625))\n",
    "# hidden layer with 625 neurons\n",
    "w_o = init_weights((625, 10))\n",
    "# output shape is (B, 10)\n",
    "\n",
    "optimizer = RMSprop(params=[w_h, w_h2, w_o])\n",
    "\n",
    "\n",
    "n_epochs = 100\n",
    "\n",
    "train_loss = []\n",
    "test_loss = []\n",
    "\n",
    "# put this into a training loop over 100 epochs\n",
    "for epoch in range(n_epochs + 1):\n",
    "    train_loss_this_epoch = []\n",
    "    for idx, batch in enumerate(train_dataloader):\n",
    "        x, y = batch\n",
    "\n",
    "        # our model requires flattened input\n",
    "        x = x.reshape(batch_size, 784)\n",
    "        \n",
    "        # feed input through model\n",
    "        noise_py_x = dropout_model(x, w_h, w_h2, w_o, 0.5, 0.2)\n",
    "\n",
    "        # reset the gradient\n",
    "        optimizer.zero_grad()\n",
    "\n",
    "        # the cross-entropy loss function already contains the softmax\n",
    "        loss = cross_entropy(noise_py_x, y, reduction=\"mean\")\n",
    "\n",
    "        train_loss_this_epoch.append(float(loss))\n",
    "\n",
    "        # compute the gradient\n",
    "        loss.backward()\n",
    "        # update weights\n",
    "        optimizer.step()\n",
    "\n",
    "    train_loss.append(np.mean(train_loss_this_epoch))\n",
    "\n",
    "    # test periodically\n",
    "    if epoch % 10 == 0:\n",
    "        print(f\"Epoch: {epoch}\")\n",
    "        print(f\"Mean Train Loss: {train_loss[-1]:.2e}\")\n",
    "        test_loss_this_epoch = []\n",
    "\n",
    "        # no need to compute gradients for validation\n",
    "        with torch.no_grad():\n",
    "            for idx, batch in enumerate(test_dataloader):\n",
    "                x, y = batch\n",
    "                x = x.reshape(batch_size, 784)\n",
    "                noise_py_x = model(x, w_h, w_h2, w_o)\n",
    "\n",
    "                loss = cross_entropy(noise_py_x, y, reduction=\"mean\")\n",
    "                test_loss_this_epoch.append(float(loss))\n",
    "\n",
    "        test_loss.append(np.mean(test_loss_this_epoch))\n",
    "\n",
    "        print(f\"Mean Test Loss:  {test_loss[-1]:.2e}\")\n"
   ]
  },
  {
   "cell_type": "markdown",
   "id": "81e43b61",
   "metadata": {},
   "source": [
    "<div style=\"color: green; font-weight: bold\">Essentially the same as sample solution.</div>"
   ]
  },
  {
   "cell_type": "code",
   "execution_count": 20,
   "id": "8dcc10a6-c6b9-4527-8e5a-7369e548a031",
   "metadata": {},
   "outputs": [
    {
     "data": {
      "text/plain": [
       "<matplotlib.legend.Legend at 0x1e68e5a0710>"
      ]
     },
     "execution_count": 20,
     "metadata": {},
     "output_type": "execute_result"
    },
    {
     "data": {
      "image/png": "[encoded data removed]",
      "text/plain": [
       "<Figure size 432x288 with 1 Axes>"
      ]
     },
     "metadata": {
      "needs_background": "light"
     },
     "output_type": "display_data"
    }
   ],
   "source": [
    "# plotting after drop\n",
    "plt.plot(np.arange(n_epochs + 1), train_loss, label=\"Train\")\n",
    "plt.plot(np.arange(1, n_epochs + 2, 10), test_loss, label=\"Test\")\n",
    "plt.title(\"Train and Test Loss over Training\")\n",
    "plt.xlabel(\"Epoch\")\n",
    "plt.ylabel(\"Loss\")\n",
    "plt.legend()"
   ]
  },
  {
   "cell_type": "markdown",
   "id": "3687cf47",
   "metadata": {},
   "source": [
    "<div style=\"color: green; font-weight: bold\">\n",
    "\n",
    "Task 3 is missing.\n",
    "\n",
    "</div>"
   ]
  },
  {
   "cell_type": "markdown",
   "id": "8b09ecac-ed34-464d-b3b2-07995a6d31fa",
   "metadata": {},
   "source": [
    "### Question 4"
   ]
  },
  {
   "cell_type": "code",
   "execution_count": 21,
   "id": "a46d56b7-e6fb-4f6d-9c67-0f5bbaaa9f85",
   "metadata": {},
   "outputs": [
    {
     "name": "stdout",
     "output_type": "stream",
     "text": [
      "Net(\n",
      "  (conv1): Conv2d(1, 32, kernel_size=(5, 5), stride=(1, 1))\n",
      "  (conv2): Conv2d(32, 64, kernel_size=(5, 5), stride=(1, 1))\n",
      "  (conv3): Conv2d(64, 128, kernel_size=(2, 2), stride=(1, 1))\n",
      "  (fc1): Linear(in_features=512, out_features=625, bias=True)\n",
      "  (fc2): Linear(in_features=625, out_features=10, bias=True)\n",
      ")\n"
     ]
    }
   ],
   "source": [
    "#Creating CNN \n",
    "\n",
    "\n",
    "import torch\n",
    "import torch.nn as nn\n",
    "import torch.nn.functional as F\n",
    "\n",
    "class Net(nn.Module):\n",
    "    def __init__(self):\n",
    "        super(Net, self).__init__()\n",
    "\n",
    "        # Convolutional layers\n",
    "        self.conv1 = nn.Conv2d(1, 32, kernel_size=5)\n",
    "        self.conv2 = nn.Conv2d(32, 64, kernel_size=5)\n",
    "        self.conv3 = nn.Conv2d(64, 128, kernel_size=2)\n",
    "\n",
    "        # Fully connected layers\n",
    "        self.fc1 = nn.Linear(128 * 2 * 2, 625)  # Adjust the input size based on the number of output pixels of the CNN\n",
    "        self.fc2 = nn.Linear(625, 10)  # Pre-softmax output layer with 10 outputs\n",
    "\n",
    "        # Initialize the weights\n",
    "        self.init_weights()\n",
    "\n",
    "    def init_weights(self):\n",
    "        # Initialize the weights for convolutional layers\n",
    "        nn.init.xavier_uniform_(self.conv1.weight)\n",
    "        nn.init.xavier_uniform_(self.conv2.weight)\n",
    "        nn.init.xavier_uniform_(self.conv3.weight)\n",
    "\n",
    "        # Initialize the weights for fully connected layers\n",
    "        nn.init.xavier_uniform_(self.fc1.weight)\n",
    "        nn.init.xavier_uniform_(self.fc2.weight)\n",
    "\n",
    "    def forward(self, x):\n",
    "        x = F.relu(F.max_pool2d(self.conv1(x), 2))\n",
    "        x = F.relu(F.max_pool2d(self.conv2(x), 2))\n",
    "        x = F.relu(self.conv3(x))\n",
    "\n",
    "        x = x.view(-1, 128 * 2 * 2)  # Flatten the input\n",
    "        x = F.relu(self.fc1(x))\n",
    "        x = self.fc2(x)\n",
    "        return x\n",
    "\n",
    "# Initialize the network\n",
    "net = Net()\n",
    "\n",
    "# Print the network architecture\n",
    "print(net)\n"
   ]
  },
  {
   "cell_type": "markdown",
   "id": "16f3c38b",
   "metadata": {},
   "source": [
    "<div style=\"color: green; font-weight: bold\">\n",
    "\n",
    "Generation of the correct filters. \n",
    "\n",
    "</div>"
   ]
  },
  {
   "cell_type": "code",
   "execution_count": 22,
   "id": "0203d007-7a5d-4cff-8e6b-b5a6a8124261",
   "metadata": {},
   "outputs": [
    {
     "name": "stdout",
     "output_type": "stream",
     "text": [
      "Downloading http://yann.lecun.com/exdb/mnist/train-images-idx3-ubyte.gz\n",
      "Downloading http://yann.lecun.com/exdb/mnist/train-images-idx3-ubyte.gz to path_to_test_set\\MNIST\\raw\\train-images-idx3-ubyte.gz\n"
     ]
    },
    {
     "name": "stderr",
     "output_type": "stream",
     "text": [
      "100.0%\n"
     ]
    },
    {
     "name": "stdout",
     "output_type": "stream",
     "text": [
      "Extracting path_to_test_set\\MNIST\\raw\\train-images-idx3-ubyte.gz to path_to_test_set\\MNIST\\raw\n"
     ]
    },
    {
     "name": "stderr",
     "output_type": "stream",
     "text": [
      "100.0%"
     ]
    },
    {
     "name": "stdout",
     "output_type": "stream",
     "text": [
      "\n",
      "Downloading http://yann.lecun.com/exdb/mnist/train-labels-idx1-ubyte.gz\n",
      "Downloading http://yann.lecun.com/exdb/mnist/train-labels-idx1-ubyte.gz to path_to_test_set\\MNIST\\raw\\train-labels-idx1-ubyte.gz\n",
      "Extracting path_to_test_set\\MNIST\\raw\\train-labels-idx1-ubyte.gz to path_to_test_set\\MNIST\\raw\n",
      "\n",
      "Downloading http://yann.lecun.com/exdb/mnist/t10k-images-idx3-ubyte.gz\n",
      "Downloading http://yann.lecun.com/exdb/mnist/t10k-images-idx3-ubyte.gz to path_to_test_set\\MNIST\\raw\\t10k-images-idx3-ubyte.gz\n"
     ]
    },
    {
     "name": "stderr",
     "output_type": "stream",
     "text": [
      "\n",
      "100.0%\n",
      "100.0%\n"
     ]
    },
    {
     "name": "stdout",
     "output_type": "stream",
     "text": [
      "Extracting path_to_test_set\\MNIST\\raw\\t10k-images-idx3-ubyte.gz to path_to_test_set\\MNIST\\raw\n",
      "\n",
      "Downloading http://yann.lecun.com/exdb/mnist/t10k-labels-idx1-ubyte.gz\n",
      "Downloading http://yann.lecun.com/exdb/mnist/t10k-labels-idx1-ubyte.gz to path_to_test_set\\MNIST\\raw\\t10k-labels-idx1-ubyte.gz\n",
      "Extracting path_to_test_set\\MNIST\\raw\\t10k-labels-idx1-ubyte.gz to path_to_test_set\\MNIST\\raw\n",
      "\n"
     ]
    },
    {
     "data": {
      "image/png": "[encoded data removed]",
      "text/plain": [
       "<Figure size 432x288 with 4 Axes>"
      ]
     },
     "metadata": {
      "needs_background": "light"
     },
     "output_type": "display_data"
    },
    {
     "data": {
      "image/png": "[encoded data removed]",
      "text/plain": [
       "<Figure size 864x288 with 3 Axes>"
      ]
     },
     "metadata": {
      "needs_background": "light"
     },
     "output_type": "display_data"
    }
   ],
   "source": [
    "\n",
    "# #Train the model. Then, plot:\n",
    "#  one image from the test set\n",
    "#  its convolution with 3 filters of the first convolutional layer\n",
    "#  the corresponding filter weights (these should be 5 by 5 images).\n",
    "\n",
    "\n",
    "from matplotlib.text import FontProperties\n",
    "import torch\n",
    "import torchvision\n",
    "import matplotlib.pyplot as plt\n",
    "\n",
    "# Load the pre-trained model\n",
    "\n",
    "net.eval()\n",
    "\n",
    "# Load the test set\n",
    "test_dataset = torchvision.datasets.MNIST(root=\"path_to_test_set\", train=False, download=True, transform=torchvision.transforms.ToTensor())\n",
    "test_loader = torch.utils.data.DataLoader(test_dataset, batch_size=1, shuffle=True)\n",
    "\n",
    "# Get one image from the test set\n",
    "image, _ = next(iter(test_loader))\n",
    "plt.rc('font', size=9)\n",
    "# Plot the original image\n",
    "plt.subplot(141)\n",
    "plt.title(\"Original Image\")\n",
    "plt.rc('font', size=9)\n",
    "plt.imshow(image.squeeze(), cmap=\"gray\")\n",
    "plt.axis(\"off\")\n",
    "\n",
    "# Get the activations from the first convolutional layer\n",
    "activations = net.conv1(image)\n",
    "activations = activations.squeeze().detach()\n",
    "\n",
    "# Plot the convolutions with three filters from the first convolutional layer\n",
    "plt.subplot(142)\n",
    "\n",
    "plt.title(\"Filter 1\")\n",
    "\n",
    "\n",
    "plt.imshow(activations[0], cmap=\"gray\")\n",
    "plt.axis(\"off\")\n",
    "\n",
    "plt.subplot(143)\n",
    "plt.title(\"Filter 2\")\n",
    "plt.imshow(activations[1], cmap=\"gray\")\n",
    "plt.axis(\"off\")\n",
    "\n",
    "plt.subplot(144)\n",
    "plt.title(\"Filter 3\")\n",
    "plt.imshow(activations[2], cmap=\"gray\")\n",
    "plt.axis(\"off\")\n",
    "\n",
    "plt.show()\n",
    "\n",
    "# Plot the corresponding filter weights\n",
    "filter_weights = net.conv1.weight.squeeze().detach()\n",
    "\n",
    "plt.figure(figsize=(12, 4))\n",
    "for i in range(3):\n",
    "    plt.subplot(1, 3, i + 1)\n",
    "    plt.title(f\"Filter {i + 1} Weights\")\n",
    "    plt.imshow(filter_weights[i], cmap=\"gray\")\n",
    "    plt.axis(\"off\")\n",
    "\n",
    "plt.show()\n"
   ]
  },
  {
   "cell_type": "code",
   "execution_count": 23,
   "id": "270659df-4c07-4371-a4cc-1fae259c2d95",
   "metadata": {},
   "outputs": [
    {
     "name": "stdout",
     "output_type": "stream",
     "text": [
      "Net(\n",
      "  (conv1): Conv2d(1, 32, kernel_size=(5, 5), stride=(1, 1))\n",
      "  (conv2): Conv2d(32, 64, kernel_size=(5, 5), stride=(1, 1))\n",
      "  (conv3): Conv2d(64, 128, kernel_size=(2, 2), stride=(1, 1))\n",
      "  (fc1): Linear(in_features=512, out_features=625, bias=True)\n",
      "  (fc2): Linear(in_features=625, out_features=10, bias=True)\n",
      ")\n"
     ]
    }
   ],
   "source": [
    "print(net)"
   ]
  },
  {
   "cell_type": "code",
   "execution_count": 24,
   "id": "ec18cd18-0256-423f-8dff-88b9331fcb37",
   "metadata": {},
   "outputs": [],
   "source": [
    "# Add one convolutional layer (you may adjust the number of filters)\n",
    "\n",
    "\n",
    "\n",
    "import torch\n",
    "import torch.nn as nn\n",
    "import torch.nn.functional as F\n",
    "import torchvision\n",
    "import matplotlib.pyplot as plt\n",
    "\n",
    "class Net(nn.Module):\n",
    "    def __init__(self):\n",
    "        super(Net, self).__init__()\n",
    "\n",
    "        # Convolutional layers\n",
    "        self.conv1 = nn.Conv2d(1, 32, kernel_size=5)\n",
    "        self.conv2 = nn.Conv2d(32, 64, kernel_size=5)\n",
    "        self.conv3 = nn.Conv2d(64, 128, kernel_size=2)\n",
    "        self.conv4 = nn.Conv2d(128, 256, kernel_size=2)  # New convolutional layer\n",
    "\n",
    "        # Fully connected layers\n",
    "        self.fc1 = nn.Linear(256 * 2 * 2, 625)  # Adjust the input size based on the number of output pixels of the CNN\n",
    "        self.fc2 = nn.Linear(625, 10)  # Pre-softmax output layer with 10 outputs\n",
    "\n",
    "        # Initialize the weights\n",
    "        self.init_weights()\n",
    "\n",
    "    def init_weights(self):\n",
    "        # Initialize the weights for convolutional layers\n",
    "        nn.init.xavier_uniform_(self.conv1.weight)\n",
    "        nn.init.xavier_uniform_(self.conv2.weight)\n",
    "        nn.init.xavier_uniform_(self.conv3.weight)\n",
    "        nn.init.xavier_uniform_(self.conv4.weight)  # Initialize weights for the new convolutional layer\n",
    "\n",
    "        # Initialize the weights for fully connected layers\n",
    "        nn.init.xavier_uniform_(self.fc1.weight)\n",
    "        nn.init.xavier_uniform_(self.fc2.weight)\n",
    "\n",
    "    def forward(self, x):\n",
    "        x = F.relu(F.max_pool2d(self.conv1(x), 2))\n",
    "        x = F.relu(F.max_pool2d(self.conv2(x), 2))\n",
    "        x = F.relu(self.conv3(x))\n",
    "        x = F.relu(self.conv4(x))  # Add the new convolutional layer\n",
    "\n",
    "        x = x.view(-1, 256 * 2 * 2)  # Flatten the input\n",
    "        x = F.relu(self.fc1(x))\n",
    "        x = self.fc2(x)\n",
    "        return x\n",
    "\n",
    "\n",
    "\n",
    "net=Net()\n"
   ]
  },
  {
   "cell_type": "markdown",
   "id": "142e9109",
   "metadata": {},
   "source": [
    "<div style=\"color: green; font-weight: bold\">\n",
    "\n",
    "Train and Test loss plots are missing \n",
    "\n",
    "</div>"
   ]
  },
  {
   "cell_type": "code",
   "execution_count": 27,
   "id": "52174ecf-97bd-4370-9b3e-8a4c15e79b54",
   "metadata": {},
   "outputs": [
    {
     "name": "stdout",
     "output_type": "stream",
     "text": [
      "Test Error: 0.9059\n"
     ]
    }
   ],
   "source": [
    "# Computing Test Errror\n",
    "\n",
    "\n",
    "import torch\n",
    "import torchvision\n",
    "import torch.nn as nn\n",
    "\n",
    "\n",
    "net.eval()\n",
    "\n",
    "# Load the test set\n",
    "test_dataset = torchvision.datasets.MNIST(root=\"path_to_test_set\", train=False, download=True, transform=torchvision.transforms.ToTensor())\n",
    "test_loader = torch.utils.data.DataLoader(test_dataset, batch_size=1, shuffle=True)\n",
    "\n",
    "device = torch.device(\"cuda\" if torch.cuda.is_available() else \"cpu\")\n",
    "net = net.to(device)\n",
    "\n",
    "# Evaluate the model on the test set\n",
    "total_samples = len(test_dataset)\n",
    "correct_predictions = 0\n",
    "\n",
    "with torch.no_grad():\n",
    "    for images, labels in test_loader:\n",
    "        images = images.to(device)\n",
    "        labels = labels.to(device)\n",
    "\n",
    "        outputs = net(images)\n",
    "        _, predicted = torch.max(outputs.data, 1)\n",
    "        correct_predictions += (predicted == labels).sum().item()\n",
    "\n",
    "test_error = 1 - (correct_predictions / total_samples)\n",
    "print(f\"Test Error: {test_error:.4f}\")\n"
   ]
  },
  {
   "cell_type": "code",
   "execution_count": null,
   "id": "2a36ee44-f328-45bb-8793-5325cfe7f906",
   "metadata": {},
   "outputs": [],
   "source": []
  }
 ],
 "metadata": {
  "kernelspec": {
   "display_name": "Python 3 (ipykernel)",
   "language": "python",
   "name": "python3"
  },
  "language_info": {
   "codemirror_mode": {
    "name": "ipython",
    "version": 3
   },
   "file_extension": ".py",
   "mimetype": "text/x-python",
   "name": "python",
   "nbconvert_exporter": "python",
   "pygments_lexer": "ipython3",
   "version": "3.9.13"
  },
  "vscode": {
   "interpreter": {
    "hash": "7eab9717bdb5e84bc7833bb0ad8ecfaa818aea541c2081d9e5269c840a131741"
   }
  }
 },
 "nbformat": 4,
 "nbformat_minor": 5
}
