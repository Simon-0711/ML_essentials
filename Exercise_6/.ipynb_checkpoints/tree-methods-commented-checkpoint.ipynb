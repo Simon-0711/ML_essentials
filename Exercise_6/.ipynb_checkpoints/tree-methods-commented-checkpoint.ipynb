{
 "cells": [
  {
   "cell_type": "code",
   "execution_count": 30,
   "metadata": {},
   "outputs": [],
   "source": [
    "# import modules\n",
    "import numpy as np\n",
    "from sklearn.datasets import load_digits\n",
    "from abc import abstractmethod\n",
    "\n",
    "from sklearn.model_selection import KFold, train_test_split\n",
    "from sklearn.metrics import confusion_matrix\n",
    "from tqdm import tqdm"
   ]
  },
  {
   "cell_type": "markdown",
   "metadata": {},
   "source": [
    "# Base Classes"
   ]
  },
  {
   "cell_type": "markdown",
   "metadata": {},
   "source": [
    "<div style=\"color: green; font-weight:\n",
    "bold\">The code in the following cell is almost completely equivalent with the exception of the method find_thresholds. We forgot to take into account the n_mins and hence have other splits that are copnsidered. Performance wise this solution ought to be equivalent as well with only minor differences, like computing the indices in \"make_children\"twice instead of using the logical not.</div>"
   ]
  },
  {
   "cell_type": "code",
   "execution_count": 3,
   "metadata": {},
   "outputs": [],
   "source": [
    "class Node:\n",
    "    '''\n",
    "      this class will later get the following attributes\n",
    "      all nodes:\n",
    "          features\n",
    "          responses\n",
    "      split nodes additionally:\n",
    "          left\n",
    "          right\n",
    "          split_index\n",
    "          threshold\n",
    "      leaf nodes additionally\n",
    "          prediction\n",
    "    '''\n",
    "        \n",
    "\n",
    "class Tree:\n",
    "    '''\n",
    "      base class for RegressionTree and ClassificationTree\n",
    "    '''\n",
    "    def __init__(self, n_min=10):\n",
    "        '''n_min: minimum required number of instances in leaf nodes\n",
    "        '''\n",
    "        self.n_min = n_min \n",
    "    \n",
    "    def predict(self, x):\n",
    "        ''' return the prediction for the given 1-D feature vector x\n",
    "        '''\n",
    "        # first find the leaf containing the 1-D feature vector x\n",
    "        node = self.root\n",
    "        while not hasattr(node, \"prediction\"):\n",
    "            j = node.split_index\n",
    "            t = np.array(x)\n",
    "            if x[j] <= node.threshold:\n",
    "                node = node.left\n",
    "            else:\n",
    "                node = node.right\n",
    "        # finally, return the leaf's prediction\n",
    "        return node.prediction\n",
    "        \n",
    "    def train(self, features, responses, D_try=None):\n",
    "        '''\n",
    "        features: the feature matrix of the training set\n",
    "        response: the vector of responses\n",
    "        '''\n",
    "        N, D = features.shape\n",
    "        assert(responses.shape[0] == N)\n",
    "\n",
    "        if D_try is None:\n",
    "            D_try = int(np.sqrt(D)) # number of features to consider for each split decision\n",
    "        \n",
    "        # initialize the root node\n",
    "        self.root = Node()\n",
    "        self.root.features  = features\n",
    "        self.root.responses = responses\n",
    "\n",
    "        # build the tree\n",
    "        stack = [self.root]\n",
    "        while len(stack):\n",
    "            node = stack.pop()\n",
    "            active_indices = self.select_active_indices(D, D_try)\n",
    "            left, right = self.make_split_node(node, active_indices)\n",
    "            if left is None: # no split found\n",
    "                self.make_leaf_node(node)\n",
    "            else:\n",
    "                stack.append(left)\n",
    "                stack.append(right)\n",
    "    \n",
    "    def make_split_node(self, node, indices):\n",
    "        '''\n",
    "        node: the node to be split\n",
    "        indices: a numpy array of length 'D_try', containing the feature \n",
    "                         indices to be considered for the present split\n",
    "                         \n",
    "        return: None, None -- if no suitable split has been found, or\n",
    "                left, right -- the children of the split\n",
    "        '''\n",
    "        # all responses equal => no improvement possible by any split\n",
    "        if np.unique(node.responses).shape[0] == 1:\n",
    "            return None, None\n",
    "        \n",
    "        # find best feature j_min (among 'indices') and best threshold t_min for the split\n",
    "        l_min = float('inf')  # upper bound for the loss, later the loss of the best split\n",
    "        j_min, t_min = None, None\n",
    "\n",
    "        for j in indices:\n",
    "            thresholds = self.find_thresholds(node, j)\n",
    "\n",
    "            # compute loss for each threshold\n",
    "            for t in thresholds:\n",
    "                loss = self.compute_loss_for_split(node, j, t)\n",
    "\n",
    "                # remember the best split so far \n",
    "                # (the condition is never True when loss = float('inf') )\n",
    "                if loss < l_min:\n",
    "                    l_min = loss\n",
    "                    j_min = j\n",
    "                    t_min = t\n",
    "\n",
    "        if j_min is None: # no split found\n",
    "            return None, None\n",
    "\n",
    "        # create children for the best split\n",
    "        left, right = self.make_children(node, j_min, t_min)\n",
    "\n",
    "        # turn the current 'node' into a split node\n",
    "        # (store children and split condition)\n",
    "        node.left = left\n",
    "        node.right = right\n",
    "        node.split_index = j_min\n",
    "        node.threshold = t_min\n",
    "        \n",
    "        # return the children (to be placed on the stack)\n",
    "        return left, right\n",
    "    \n",
    "    def select_active_indices(self, D, D_try):\n",
    "        ''' return a 1-D array with D_try randomly selected indices from 0...(D-1).\n",
    "        '''\n",
    "        sub_list = np.random.choice(D, size=D_try)\n",
    "        return sub_list\n",
    "        \n",
    "    def find_thresholds(self, node, j):\n",
    "        ''' return: a 1-D array with all possible thresholds along feature j\n",
    "        '''\n",
    "        test = np.array(node.features)\n",
    "        sorted_feature = np.sort(np.unique(node.features[:,j]))\n",
    "        thresholds = []\n",
    "        for i in range(len(sorted_feature) - 1):\n",
    "            threshold = (sorted_feature[i] + sorted_feature[i+1]) / 2  # Compute the midpoint between adjacent elements\n",
    "            thresholds.append(threshold)\n",
    "        return thresholds\n",
    "        \n",
    "    def make_children(self, node, j, t):\n",
    "        ''' execute the split in feature j at threshold t\n",
    "        \n",
    "            return: left, right -- the children of the split, with features and responses\n",
    "                                   properly assigned according to the split\n",
    "        '''\n",
    "        left = Node()\n",
    "        right = Node()\n",
    "        \n",
    "        left_indices = node.features[:, j] <= t\n",
    "        right_indices = node.features[:, j] > t\n",
    "                \n",
    "        left.features = node.features[left_indices]\n",
    "        right.features = node.features[right_indices]\n",
    "                \n",
    "        left.responses = node.responses[left_indices]\n",
    "        right.responses = node.responses[right_indices]\n",
    "        \n",
    "        return left, right\n",
    "        \n",
    "    @abstractmethod\n",
    "    def make_leaf_node(self, node):\n",
    "        ''' Turn node into a leaf by computing and setting `node.prediction`\n",
    "        \n",
    "            (must be implemented in a subclass)\n",
    "        '''\n",
    "        raise NotImplementedError(\"make_leaf_node() must be implemented in a subclass.\")\n",
    "        \n",
    "    @abstractmethod\n",
    "    def compute_loss_for_split(self, node, j, t):\n",
    "        ''' Return the resulting loss when the data are split along feature j at threshold t.\n",
    "            If the split is not admissible, return float('inf').\n",
    "        \n",
    "            (must be implemented in a subclass)\n",
    "        '''\n",
    "        raise NotImplementedError(\"compute_loss_for_split() must be implemented in a subclass.\")\n"
   ]
  },
  {
   "cell_type": "markdown",
   "metadata": {},
   "source": [
    "# Regression Tree"
   ]
  },
  {
   "cell_type": "markdown",
   "metadata": {},
   "source": [
    "<div style=\"color: green; font-weight:\n",
    "bold\">The following code cell is also almost identical in function and performance, however, the make-leaf node is quite different, as we used as predicted element the most predicted element of all leaf nodes and the sample solution used the mean of all leaf nodes, which is of course correct.</div>"
   ]
  },
  {
   "cell_type": "code",
   "execution_count": 4,
   "metadata": {},
   "outputs": [],
   "source": [
    "class RegressionTree(Tree):\n",
    "    def __init__(self, n_min=10):\n",
    "        super(RegressionTree, self).__init__(n_min)\n",
    "        \n",
    "    def compute_loss_for_split(self, node, j, t):\n",
    "        # return the loss if we would split the instance along feature j at threshold t\n",
    "        # or float('inf') if there is no feasible split\n",
    "        left_indices = node.features[:, j] <= t\n",
    "        right_indices = node.features[:, j] > t\n",
    "        \n",
    "        if len(left_indices) < self.n_min or len(right_indices) < self.n_min:\n",
    "            return float(\"inf\")\n",
    "\n",
    "        left_responses = node.responses[left_indices]\n",
    "        right_responses = node.responses[right_indices]\n",
    "\n",
    "        left_mean = np.mean(left_responses)\n",
    "        right_mean = np.mean(right_responses)\n",
    "                \n",
    "        left_sse = np.sum((left_responses - left_mean) ** 2)\n",
    "        right_sse = np.sum((right_responses - right_mean) ** 2)\n",
    "        total_sse = left_sse + right_sse\n",
    "\n",
    "        return total_sse\n",
    "        \n",
    "    def make_leaf_node(self, node):\n",
    "        # turn node into a leaf node by computing `node.prediction`\n",
    "        # (note: the prediction of a regression tree is a real number)\n",
    "        unique, counts = np.unique(node.responses, return_counts=True)\n",
    "        # Find the index of the element with the maximum count\n",
    "        max_count_index = np.argmax(counts)\n",
    "        # Get the element with the maximum count\n",
    "        predicted_element = unique[max_count_index]\n",
    "        node.prediction = predicted_element\n"
   ]
  },
  {
   "cell_type": "markdown",
   "metadata": {},
   "source": [
    "# Classification Tree"
   ]
  },
  {
   "cell_type": "markdown",
   "metadata": {},
   "source": [
    "<div style=\"color: green; font-weight:\n",
    "bold\">The compute loss function is equivalent. We used the gini impurity, whereas the sample solution used the cross entropy loss. Both are viable but different in calculation. The make leaf node function again is different. It again does not use the mean for predicting the element but uses solely the argmax, which is incorrect</div>"
   ]
  },
  {
   "cell_type": "code",
   "execution_count": 5,
   "metadata": {
    "tags": []
   },
   "outputs": [],
   "source": [
    "class ClassificationTree(Tree):\n",
    "    '''implement classification tree so that it can handle arbitrary many classes\n",
    "    '''\n",
    "    \n",
    "    def __init__(self, classes, n_min=10):\n",
    "        ''' classes: a 1-D array with the permitted class labels\n",
    "            n_min: minimum required number of instances in leaf nodes\n",
    "        '''\n",
    "        super(ClassificationTree, self).__init__(n_min)\n",
    "        self.classes = classes\n",
    "        \n",
    "    def compute_loss_for_split(self, node, j, t):\n",
    "        # Return the loss if we would split the instances along feature j at threshold t,\n",
    "        # or float('inf') if there is no feasible split.\n",
    "        \n",
    "        left_indices = node.features[:, j] <= t\n",
    "        right_indices = node.features[:, j] > t\n",
    "        \n",
    "        if len(left_indices) < self.n_min or len(right_indices) < self.n_min:\n",
    "            return float('inf')\n",
    "        \n",
    "        left_responses = node.responses[left_indices]\n",
    "        right_responses = node.responses[right_indices]\n",
    "                \n",
    "        # Calculate the Gini impurity for the left and right subsets\n",
    "        left_gini = self.calculate_gini_impurity(left_responses)\n",
    "        right_gini = self.calculate_gini_impurity(right_responses)\n",
    "        total_gini = (len(left_indices)) * left_gini + (len(right_indices)) * right_gini\n",
    "        \n",
    "        return total_gini\n",
    "        \n",
    "    def calculate_gini_impurity(self, responses):\n",
    "        # Calculate the Gini impurity for each subnode and all classes\n",
    "        \n",
    "        _, counts = np.unique(responses, return_counts=True)\n",
    "        probabilities = counts / len(responses)\n",
    "        gini_impurity = 1.0 - np.sum(probabilities ** 2)\n",
    "        \n",
    "        return gini_impurity\n",
    "        \n",
    "    def make_leaf_node(self, node):\n",
    "        # turn node into a leaf node by computing `node.prediction`\n",
    "        # (note: the prediction of a classification tree is a class label)\n",
    "        unique_classes, counts = np.unique(node.responses, return_counts=True)\n",
    "\n",
    "        # Filter the unique classes based on the permitted classes\n",
    "        filtered_classes = np.intersect1d(unique_classes, self.classes)\n",
    "\n",
    "        if len(filtered_classes) > 0:\n",
    "            predicted_class_index = np.argmax(counts[unique_classes == filtered_classes])\n",
    "            predicted_class = filtered_classes[predicted_class_index]\n",
    "        else:\n",
    "            # If no permitted class is present in the node's responses, select the most frequent class\n",
    "            # no other useful use of self.classes came into my mind...\n",
    "            predicted_class_index = np.argmax(counts)\n",
    "            predicted_class = unique_classes[predicted_class_index]\n",
    "\n",
    "        node.prediction = predicted_class"
   ]
  },
  {
   "cell_type": "markdown",
   "metadata": {},
   "source": [
    "# Evaluation of Regression and Classification Tree"
   ]
  },
  {
   "cell_type": "markdown",
   "metadata": {},
   "source": [
    "<div style=\"color: green; font-weight:\n",
    "bold\">Due to the differences in the implementation of the threshold and the make leaf nodes, the solutions are not as good as for the sample solution. Hence our error rate is higher than the sample one. Apart from that the function for cross validation are implemented correctly. This holds true for both implementations for the evaluation of the regression tree and the classification tree. Although we did not evaluate the test error for each fold and computed the mean. We just used it on the best performing hyperparameter once. On the other hand we did a hyperparameter testing for n_mins which hasn't been done in the sample solution.</div>"
   ]
  },
  {
   "cell_type": "code",
   "execution_count": 6,
   "metadata": {
    "tags": []
   },
   "outputs": [
    {
     "name": "stdout",
     "output_type": "stream",
     "text": [
      "(1797, 64) (1797,)\n"
     ]
    }
   ],
   "source": [
    "# read and prepare the digits data and extract 3s and 9s\n",
    "digits = load_digits()\n",
    "print(digits.data.shape, digits.target.shape)\n",
    "\n",
    "instances = (digits.target == 3) | (digits.target == 9)\n",
    "features = digits.data[instances, :]\n",
    "labels = digits.target[instances]\n",
    "\n",
    "# for regression, we use labels +1 and -1\n",
    "responses = np.array([1 if l == 3 else -1 for l in labels])\n",
    "\n",
    "assert(features.shape[0] == labels.shape[0] == responses.shape[0])"
   ]
  },
  {
   "cell_type": "code",
   "execution_count": 7,
   "metadata": {
    "tags": []
   },
   "outputs": [
    {
     "name": "stdout",
     "output_type": "stream",
     "text": [
      "The mean error rate for training with n_min of 5: 0.12415824915824915, standard deviation: 0.06252089856814665\n",
      "The mean error rate for training with n_min of 10: 0.17946127946127943, standard deviation: 0.05176541836249753\n",
      "The mean error rate for training with n_min of 20: 0.12878787878787878, standard deviation: 0.046235037524779324\n",
      "The mean error rate for training with n_min of 50: 0.10143097643097643, standard deviation: 0.020904420771359667\n"
     ]
    }
   ],
   "source": [
    "# perform 5-fold cross-validation (see ex01) with responses +1 and -1 (for 3s and 9s)\n",
    "# using RegressionTree()\n",
    "# and comment on your results\n",
    "\n",
    "ratio = 0.75\n",
    "length = features.shape[0]\n",
    "idx = round(ratio*length)\n",
    "\n",
    "X_train, y_train = features[:idx], responses[:idx]\n",
    "X_test, y_test = features[idx:], responses[idx:]\n",
    "\n",
    "def regression_cross_validation(X_train, y_train, n_mins):\n",
    "    for n_min in n_mins:\n",
    "        n_folds = 5\n",
    "        k_folds = KFold(n_splits=n_folds)\n",
    "        mean_rate = np.zeros(len(n_mins))\n",
    "        for i, (train, val) in enumerate(k_folds.split(X_train, y_train)):\n",
    "            train_X, train_y = features[train], responses[train]\n",
    "            X_val, y_val = features[val], responses[val]\n",
    "            RegTree = RegressionTree(n_min=n_min)\n",
    "            RegTree.train(train_X, train_y)\n",
    "            y_preds = []\n",
    "            for sample in range(X_val.shape[0]):\n",
    "                y_preds.append(RegTree.predict(X_val[sample]))\n",
    "            mean_rate[i-1] = np.mean(y_preds != y_val)\n",
    "        print(f\"The mean error rate for training with n_min of {n_min}: {np.mean(mean_rate)}, standard deviation: {np.std(mean_rate)}\")\n",
    "\n",
    "regression_cross_validation(X_train, y_train, [5, 10, 20, 50])"
   ]
  },
  {
   "cell_type": "markdown",
   "metadata": {},
   "source": [
    "best result for n_min of 5, overall the error rate is decent but not as low as I wished for. Compared to the sample solution in ex1 for the same task with svm's, this has a similar error rate. Trainig time is very fast."
   ]
  },
  {
   "cell_type": "code",
   "execution_count": 8,
   "metadata": {},
   "outputs": [
    {
     "name": "stdout",
     "output_type": "stream",
     "text": [
      "The test error with n_min of 5: 0.25274725274725274\n"
     ]
    }
   ],
   "source": [
    "n_min = [5]\n",
    "RegTree = RegressionTree(n_min[0])\n",
    "RegTree.train(X_train, y_train, n_min)\n",
    "y_preds = []\n",
    "for sample in range(X_test.shape[0]):\n",
    "    y_preds.append(RegTree.predict(X_test[sample]))\n",
    "print(f\"The test error with n_min of {n_min[0]}: {np.mean(y_preds != y_test)}\")"
   ]
  },
  {
   "cell_type": "markdown",
   "metadata": {},
   "source": [
    "#### Classification Tree"
   ]
  },
  {
   "cell_type": "code",
   "execution_count": 9,
   "metadata": {},
   "outputs": [
    {
     "name": "stdout",
     "output_type": "stream",
     "text": [
      "The mean error rate for training with n_min of 5: 0.13813131313131313, standard deviation: 0.0300450815164449\n",
      "The mean error rate for training with n_min of 10: 0.1515151515151515, standard deviation: 0.07472168693997355\n",
      "The mean error rate for training with n_min of 20: 0.11548821548821547, standard deviation: 0.06355034893763103\n",
      "The mean error rate for training with n_min of 50: 0.129040404040404, standard deviation: 0.045372400521784984\n"
     ]
    }
   ],
   "source": [
    "# perform 5-fold cross-validation with labels 3 and 9\n",
    "# using ClassificationTree(classes=np.unique(labels))\n",
    "# and comment on your results\n",
    "\n",
    "ratio = 0.75\n",
    "length = features.shape[0]\n",
    "idx = round(ratio*length)\n",
    "classes = np.unique(labels)\n",
    "\n",
    "X_train, y_train = features[:idx], labels[:idx]\n",
    "X_test, y_test = features[idx:], labels[idx:]\n",
    "\n",
    "\n",
    "def classification_cross_validation(X_train, y_train, n_mins):\n",
    "    for n_min in n_mins:\n",
    "        n_folds = 5\n",
    "        k_folds = KFold(n_splits=n_folds)\n",
    "        mean_rate = np.zeros(len(n_mins))\n",
    "        for i, (train, val) in enumerate(k_folds.split(X_train, y_train)):\n",
    "            train_X, train_y = features[train], labels[train]\n",
    "            X_val, y_val = features[val], labels[val]\n",
    "            ClassTree = ClassificationTree(n_min=n_min, classes=classes)\n",
    "            ClassTree.train(train_X, train_y)\n",
    "            y_preds = []\n",
    "            for sample in range(X_val.shape[0]):\n",
    "                y_preds.append(ClassTree.predict(X_val[sample]))\n",
    "            mean_rate[i-1] = np.mean(y_preds != y_val)\n",
    "        print(f\"The mean error rate for training with n_min of {n_min}: {np.mean(mean_rate)}, standard deviation: {np.std(mean_rate)}\")\n",
    "\n",
    "classification_cross_validation(X_train, y_train, [5, 10, 20, 50])"
   ]
  },
  {
   "cell_type": "markdown",
   "metadata": {},
   "source": [
    "best result for n_min = 20. Decent error rate especially for n_min = 20. The training time is a bit longer than for the regressiontree, which might be due to my implementation or due to the fact that it took more calculation steps. But still it was a fast training time with < 10 seconds "
   ]
  },
  {
   "cell_type": "code",
   "execution_count": 10,
   "metadata": {},
   "outputs": [
    {
     "name": "stdout",
     "output_type": "stream",
     "text": [
      "The test error with n_min of 20: 0.0989010989010989\n"
     ]
    }
   ],
   "source": [
    "n_min = [20]\n",
    "ClassTree = ClassificationTree(n_min=n_min[0], classes = classes)\n",
    "ClassTree.train(X_train, y_train, n_min)\n",
    "y_preds = []\n",
    "for sample in range(X_test.shape[0]):\n",
    "    y_preds.append(ClassTree.predict(X_test[sample]))\n",
    "print(f\"The test error with n_min of {n_min[0]}: {np.mean(y_preds != y_test)}\")"
   ]
  },
  {
   "cell_type": "markdown",
   "metadata": {},
   "source": [
    "# Regression and Classification Forest"
   ]
  },
  {
   "cell_type": "markdown",
   "metadata": {},
   "source": [
    "<div style=\"color: green; font-weight:\n",
    "bold\">The bootstrapping function is quite similar with minor differences in the random initialization. This difference shouldn't effect the performance and functionality.</div>"
   ]
  },
  {
   "cell_type": "code",
   "execution_count": 11,
   "metadata": {},
   "outputs": [],
   "source": [
    "def bootstrap_sampling(features, responses):\n",
    "    '''return a bootstrap sample of features and responses\n",
    "    '''\n",
    "    \n",
    "    assert features.shape[0] == responses.shape[0], \"Feature and label shape don't match.\"\n",
    "    # length of dataset\n",
    "    N = responses.shape[0]\n",
    "    indices = np.random.randint(low=0, high=N, size=N)\n",
    "    # features and responses can be selected more than once \n",
    "    return features[indices], responses[indices]"
   ]
  },
  {
   "cell_type": "code",
   "execution_count": 12,
   "metadata": {},
   "outputs": [
    {
     "name": "stdout",
     "output_type": "stream",
     "text": [
      "(1797, 64) (1797,)\n"
     ]
    }
   ],
   "source": [
    "bootstrap_features, bootstrap_responses = bootstrap_sampling(digits.data, digits.target)\n",
    "\n",
    "print(bootstrap_features.shape, bootstrap_responses.shape)"
   ]
  },
  {
   "cell_type": "markdown",
   "metadata": {},
   "source": [
    "<div style=\"color: green; font-weight:\n",
    "bold\">The regression forest is implemented equivallently with respect to performance and functionality.</div>"
   ]
  },
  {
   "cell_type": "code",
   "execution_count": 13,
   "metadata": {
    "tags": []
   },
   "outputs": [],
   "source": [
    "class RegressionForest():\n",
    "    def __init__(self, n_trees, n_min=10):\n",
    "        # create ensemble\n",
    "        self.trees = [RegressionTree(n_min) for i in range(n_trees)]\n",
    "    \n",
    "    def train(self, features, responses):\n",
    "        for tree in self.trees:\n",
    "            boostrap_features, bootstrap_responses = bootstrap_sampling(features, responses)\n",
    "            tree.train(boostrap_features, bootstrap_responses)\n",
    "\n",
    "    def predict(self, x):\n",
    "        # compute the response of the ensemble from the individual responses and return it\n",
    "        responses = np.array([tree.predict(x=x) for tree in self.trees])\n",
    "        # ensemble response regression: average over all tree responses\n",
    "        return np.sign(np.mean(responses))\n",
    "        \n"
   ]
  },
  {
   "cell_type": "markdown",
   "metadata": {},
   "source": [
    "<div style=\"color: green; font-weight:\n",
    "bold\">The classification forest is implemented equivalently with only minor implementation differences in the predict function, which neither effect performance nor functionality.</div>"
   ]
  },
  {
   "cell_type": "code",
   "execution_count": 14,
   "metadata": {
    "tags": []
   },
   "outputs": [],
   "source": [
    "class ClassificationForest():\n",
    "    def __init__(self, n_trees, classes, n_min=1):\n",
    "        self.trees = [ClassificationTree(classes, n_min) for i in range(n_trees)]\n",
    "        self.classes = classes\n",
    "    \n",
    "    def train(self, features, labels):\n",
    "        for tree in self.trees:\n",
    "            boostrap_features, bootstrap_responses = bootstrap_sampling(features, labels)\n",
    "            tree.train(boostrap_features, bootstrap_responses)\n",
    "\n",
    "    def predict(self, x):\n",
    "        # compute the response of the ensemble from the individual responses and return it\n",
    "        responses = np.array([tree.predict(x=x) for tree in self.trees])\n",
    "        # count response for each unique class\n",
    "        unique, counts = np.unique(responses, return_counts=True)\n",
    "        # return class with most counts\n",
    "        return unique[np.argmax(counts)]"
   ]
  },
  {
   "cell_type": "markdown",
   "metadata": {},
   "source": [
    "# Evaluation of Regression and Decision Forest"
   ]
  },
  {
   "cell_type": "markdown",
   "metadata": {},
   "source": [
    "<div style=\"color: green; font-weight:\n",
    "bold\">As described in the comment for the evaluation of the single trees, the function is correctly build with an additional hyperparameter testing and only slight functional differences (we did not print the train error for each fold). Due to the slight errors in the base tree implementation, the results are not as good as the ones in the sample solution. This applies also for the classification tree forest. </div>"
   ]
  },
  {
   "cell_type": "code",
   "execution_count": 15,
   "metadata": {
    "tags": []
   },
   "outputs": [
    {
     "name": "stdout",
     "output_type": "stream",
     "text": [
      "The mean error rate for training with n_min of 5: 0.06001683501683502, standard deviation: 0.02421946981906757\n",
      "The mean error rate for training with n_min of 10: 0.04141414141414141, standard deviation: 0.02391402141768023\n",
      "The mean error rate for training with n_min of 20: 0.05555555555555555, standard deviation: 0.047213143644377634\n",
      "The mean error rate for training with n_min of 50: 0.07853535353535354, standard deviation: 0.027645717096820954\n"
     ]
    }
   ],
   "source": [
    "# perform 5-fold cross-validation (see ex01) with responses +1 and -1 (for 3s and 9s)\n",
    "# using RegressionForest(n_trees=10)\n",
    "# and comment on your results\n",
    "X_train, X_test, y_train, y_test = train_test_split(features, responses, test_size=0.25)\n",
    "\n",
    "def regression_cross_validation(X_train, y_train, n_mins):\n",
    "    for n_min in n_mins:\n",
    "        n_folds = 5\n",
    "        k_folds = KFold(n_splits=n_folds)\n",
    "        mean_rate = np.zeros(len(n_mins))\n",
    "        for i, (train, val) in enumerate(k_folds.split(X_train, y_train)):\n",
    "            train_X, train_y = X_train[train], y_train[train]\n",
    "            X_val, y_val = X_train[val], y_train[val]\n",
    "            RegForest = RegressionForest(n_trees=10, n_min=n_min)\n",
    "            RegForest.train(train_X, train_y)\n",
    "            y_preds = []\n",
    "            for sample in range(X_val.shape[0]):\n",
    "                y_preds.append(RegForest.predict(X_val[sample]))\n",
    "            mean_rate[i-1] = np.mean(y_preds != y_val)\n",
    "        print(f\"The mean error rate for training with n_min of {n_min}: {np.mean(mean_rate)}, standard deviation: {np.std(mean_rate)}\")\n",
    "\n",
    "regression_cross_validation(X_train, y_train, [5, 10, 20, 50])"
   ]
  },
  {
   "cell_type": "code",
   "execution_count": 16,
   "metadata": {},
   "outputs": [
    {
     "name": "stdout",
     "output_type": "stream",
     "text": [
      "The mean error rate for training with n_min of 5: 0.0967171717171717, standard deviation: 0.027146040505130177\n",
      "The mean error rate for training with n_min of 10: 0.050505050505050504, standard deviation: 0.02675126023917627\n",
      "The mean error rate for training with n_min of 20: 0.07828282828282829, standard deviation: 0.023823184676910615\n",
      "The mean error rate for training with n_min of 50: 0.06447811447811447, standard deviation: 0.04623258548561051\n"
     ]
    }
   ],
   "source": [
    "# perform 5-fold cross-validation with labels 3 and 9\n",
    "# using DecisionForest(n_trees=10, classes=np.unique(labels))\n",
    "# and comment on your results\n",
    "X_train, X_test, y_train, y_test = train_test_split(features, labels, test_size=0.25)\n",
    "classes = np.unique(labels)\n",
    "\n",
    "def classification_cross_validation(X_train, y_train, n_mins):\n",
    "    for n_min in n_mins:\n",
    "        n_folds = 5\n",
    "        k_folds = KFold(n_splits=n_folds)\n",
    "        mean_rate = np.zeros(len(n_mins))\n",
    "        for i, (train, val) in enumerate(k_folds.split(X_train, y_train)):\n",
    "            train_X, train_y = X_train[train], y_train[train]\n",
    "            X_val, y_val = X_train[val], y_train[val]\n",
    "            ClassForest = ClassificationForest(n_trees=10, classes=classes, n_min=n_min)\n",
    "            ClassForest.train(train_X, train_y)\n",
    "            y_preds = []\n",
    "            for sample in range(X_val.shape[0]):\n",
    "                y_preds.append(ClassForest.predict(X_val[sample]))\n",
    "            mean_rate[i-1] = np.mean(y_preds != y_val)\n",
    "        print(f\"The mean error rate for training with n_min of {n_min}: {np.mean(mean_rate)}, standard deviation: {np.std(mean_rate)}\")\n",
    "\n",
    "classification_cross_validation(X_train, y_train, [5, 10, 20, 50])"
   ]
  },
  {
   "cell_type": "markdown",
   "metadata": {},
   "source": [
    "# Multi-class Classification Forest"
   ]
  },
  {
   "cell_type": "code",
   "execution_count": 17,
   "metadata": {},
   "outputs": [
    {
     "name": "stdout",
     "output_type": "stream",
     "text": [
      "(1797, 64) (1797,)\n"
     ]
    }
   ],
   "source": [
    "# read and prepare the digits data and extract 3s and 9s\n",
    "digits = load_digits()\n",
    "print(digits.data.shape, digits.target.shape)\n",
    "\n",
    "features = digits.data\n",
    "labels = digits.target"
   ]
  },
  {
   "cell_type": "code",
   "execution_count": 18,
   "metadata": {},
   "outputs": [],
   "source": [
    "# Train DecisionForest(n_trees=10, classes=np.unique(digits.target))\n",
    "# for all 10 digits simultaneously.\n",
    "# Compute and plot the confusion matrix after 5-fold cross-validation and comment on your results.\n",
    "X_train, X_test, y_train, y_test = train_test_split(features, labels, test_size=0.25)\n",
    "classes = np.unique(labels)\n",
    "\n",
    "def classification_cross_validation(X_train, y_train, n_mins):\n",
    "    # safes the best n_min config\n",
    "    min_n_min = None\n",
    "    min_mean_error = float('inf')\n",
    "    for n_min in n_mins:\n",
    "        n_folds = 5\n",
    "        k_folds = KFold(n_splits=n_folds)\n",
    "        mean_rate = np.zeros(n_folds)\n",
    "        for i, (train, val) in enumerate(k_folds.split(X_train, y_train)):\n",
    "            train_X, train_y = X_train[train], y_train[train]\n",
    "            X_val, y_val = X_train[val], y_train[val]\n",
    "            ClassForest = ClassificationForest(n_trees=10, classes=classes, n_min=n_min)\n",
    "            ClassForest.train(train_X, train_y)\n",
    "            y_preds = []\n",
    "            for sample in range(X_val.shape[0]):\n",
    "                y_preds.append(ClassForest.predict(X_val[sample]))\n",
    "            mean_rate[i-1] = np.mean(y_preds != y_val)\n",
    "\n",
    "        # Search for the n_min with the lowest mean_error  \n",
    "        if np.mean(mean_rate) < min_mean_error:\n",
    "            min_mean_error = np.mean(mean_rate)\n",
    "            min_n_min = n_min\n",
    "        print(f\"The mean error rate for training with n_min of {n_min}: {np.mean(mean_rate)}, standard deviation: {np.std(mean_rate)}\")\n",
    "    return min_n_min"
   ]
  },
  {
   "cell_type": "code",
   "execution_count": 19,
   "metadata": {},
   "outputs": [
    {
     "name": "stdout",
     "output_type": "stream",
     "text": [
      "The mean error rate for training with n_min of 2: 0.19669007297260088, standard deviation: 0.037029718682801964\n",
      "The mean error rate for training with n_min of 5: 0.1825829547019138, standard deviation: 0.03600997969518495\n",
      "The mean error rate for training with n_min of 10: 0.20482996007159576, standard deviation: 0.041249256100184234\n",
      "5\n"
     ]
    }
   ],
   "source": [
    "min_n_min = classification_cross_validation(X_train, y_train, [2, 5, 10])\n",
    "print(min_n_min)"
   ]
  },
  {
   "cell_type": "code",
   "execution_count": 20,
   "metadata": {},
   "outputs": [],
   "source": [
    "ClassForest = ClassificationForest(n_trees=10, classes=classes, n_min=min_n_min)\n",
    "ClassForest.train(X_train, y_train)\n",
    "\n",
    "y_predictions = []\n",
    "for i in range(len(X_test)):\n",
    "    y_predictions.append(ClassForest.predict(X_test[i]))\n",
    "y_predictions = np.array(y_predictions)"
   ]
  },
  {
   "cell_type": "code",
   "execution_count": 21,
   "metadata": {},
   "outputs": [
    {
     "name": "stdout",
     "output_type": "stream",
     "text": [
      "[7 4 2 4 3 5 8 6 9 0]\n",
      "[7 4 2 4 3 5 9 6 5 0]\n"
     ]
    }
   ],
   "source": [
    "print(y_predictions[:10])\n",
    "print(y_test[:10])"
   ]
  },
  {
   "cell_type": "code",
   "execution_count": 22,
   "metadata": {},
   "outputs": [
    {
     "name": "stdout",
     "output_type": "stream",
     "text": [
      "[[45  0  0  0  0  0  0  0  0  0]\n",
      " [ 0 47  0  0  2  1  3  0  3  3]\n",
      " [ 0  1 27  2  0  2  0  0  3  1]\n",
      " [ 0  1  2 40  1  4  0  1  1  0]\n",
      " [ 0  0  1  0 37  2  1  5  4  3]\n",
      " [ 2  0  0  0  1 29  0  2  3  3]\n",
      " [ 0  0  0  1  1  0 49  0  0  0]\n",
      " [ 0  0  0  0  2  4  0 30  1  3]\n",
      " [ 0  0  1  3  0  1  2  0 36  3]\n",
      " [ 1  1  0  0  0  1  0  0  2 25]]\n"
     ]
    }
   ],
   "source": [
    "# Confusion Matrices\n",
    "confusion_matrix = confusion_matrix(y_predictions, y_test)\n",
    "print(confusion_matrix)"
   ]
  },
  {
   "cell_type": "code",
   "execution_count": 23,
   "metadata": {},
   "outputs": [],
   "source": [
    "# Confusion matrix plot taken from\n",
    "# https://stackoverflow.com/questions/39033880/plot-confusion-matrix-sklearn-with-multiple-labels\n",
    "def plot_confusion_matrix(cm,\n",
    "                          target_names,\n",
    "                          title='Confusion matrix',\n",
    "                          cmap=None,\n",
    "                          normalize=True):\n",
    "    \"\"\"\n",
    "    given a sklearn confusion matrix (cm), make a nice plot\n",
    "\n",
    "    Arguments\n",
    "    ---------\n",
    "    cm:           confusion matrix from sklearn.metrics.confusion_matrix\n",
    "\n",
    "    target_names: given classification classes such as [0, 1, 2]\n",
    "                  the class names, for example: ['high', 'medium', 'low']\n",
    "\n",
    "    title:        the text to display at the top of the matrix\n",
    "\n",
    "    cmap:         the gradient of the values displayed from matplotlib.pyplot.cm\n",
    "                  see http://matplotlib.org/examples/color/colormaps_reference.html\n",
    "                  plt.get_cmap('jet') or plt.cm.Blues\n",
    "\n",
    "    normalize:    If False, plot the raw numbers\n",
    "                  If True, plot the proportions\n",
    "\n",
    "    Usage\n",
    "    -----\n",
    "    plot_confusion_matrix(cm           = cm,                  # confusion matrix created by\n",
    "                                                              # sklearn.metrics.confusion_matrix\n",
    "                          normalize    = True,                # show proportions\n",
    "                          target_names = y_labels_vals,       # list of names of the classes\n",
    "                          title        = best_estimator_name) # title of graph\n",
    "\n",
    "    Citiation\n",
    "    ---------\n",
    "    http://scikit-learn.org/stable/auto_examples/model_selection/plot_confusion_matrix.html\n",
    "\n",
    "    \"\"\"\n",
    "    import matplotlib.pyplot as plt\n",
    "    import numpy as np\n",
    "    import itertools\n",
    "\n",
    "    accuracy = np.trace(cm) / float(np.sum(cm))\n",
    "    misclass = 1 - accuracy\n",
    "\n",
    "    if cmap is None:\n",
    "        cmap = plt.get_cmap('Blues')\n",
    "\n",
    "    plt.figure(figsize=(8, 6))\n",
    "    plt.imshow(cm, interpolation='nearest', cmap=cmap)\n",
    "    plt.title(title)\n",
    "    plt.colorbar()\n",
    "\n",
    "    if target_names is not None:\n",
    "        tick_marks = np.arange(len(target_names))\n",
    "        plt.xticks(tick_marks, target_names, rotation=45)\n",
    "        plt.yticks(tick_marks, target_names)\n",
    "\n",
    "    if normalize:\n",
    "        cm = cm.astype('float') / cm.sum(axis=1)[:, np.newaxis]\n",
    "\n",
    "\n",
    "    thresh = cm.max() / 1.5 if normalize else cm.max() / 2\n",
    "    for i, j in itertools.product(range(cm.shape[0]), range(cm.shape[1])):\n",
    "        if normalize:\n",
    "            plt.text(j, i, \"{:0.4f}\".format(cm[i, j]),\n",
    "                     horizontalalignment=\"center\",\n",
    "                     color=\"white\" if cm[i, j] > thresh else \"black\")\n",
    "        else:\n",
    "            plt.text(j, i, \"{:,}\".format(cm[i, j]),\n",
    "                     horizontalalignment=\"center\",\n",
    "                     color=\"white\" if cm[i, j] > thresh else \"black\")\n",
    "\n",
    "\n",
    "    plt.tight_layout()\n",
    "    plt.ylabel('True label')\n",
    "    plt.xlabel('Predicted label\\naccuracy={:0.4f}; misclass={:0.4f}'.format(accuracy, misclass))\n",
    "    plt.show()"
   ]
  },
  {
   "cell_type": "code",
   "execution_count": 24,
   "metadata": {},
   "outputs": [
    {
     "data": {
      "image/png": "[encoded data removed]",
      "text/plain": [
       "<Figure size 800x600 with 2 Axes>"
      ]
     },
     "metadata": {},
     "output_type": "display_data"
    }
   ],
   "source": [
    "# confusion matrix for all digits\n",
    "plot_confusion_matrix(confusion_matrix.T, [str(i) for i in range(10)])"
   ]
  },
  {
   "cell_type": "markdown",
   "metadata": {},
   "source": [
    "For all digits the correct prediction is quite high. However it seams that for digits \"4\" and \"8\" prediction quality is lower. \n",
    "For digit \"4\" most incorrect classifications are mapped to \"2\" (6,5%) and \"7\" (8,7%) which is expected due to similarity of the digits.\n",
    "For digit \"8\" most incorrect classifications are mapped to \"3\" (10,26%) which also is expected due to the similarity of \"3\" and \"8\"."
   ]
  },
  {
   "cell_type": "markdown",
   "metadata": {},
   "source": [
    "# One-against-the-rest classification with RegressionForest"
   ]
  },
  {
   "cell_type": "code",
   "execution_count": 25,
   "metadata": {},
   "outputs": [
    {
     "name": "stdout",
     "output_type": "stream",
     "text": [
      "(1797, 64) (1797,)\n"
     ]
    }
   ],
   "source": [
    "# read and prepare the digits data and extract 3s and 9s\n",
    "digits = load_digits()\n",
    "print(digits.data.shape, digits.target.shape)\n",
    "\n",
    "features = digits.data\n",
    "labels = digits.target"
   ]
  },
  {
   "cell_type": "code",
   "execution_count": 26,
   "metadata": {},
   "outputs": [
    {
     "name": "stderr",
     "output_type": "stream",
     "text": [
      "5it [00:38,  7.74s/it]"
     ]
    },
    {
     "name": "stdout",
     "output_type": "stream",
     "text": [
      "The mean error rate for training with n_min of 5: 0.23087429436871817, standard deviation: 0.03202328406488615\n"
     ]
    },
    {
     "name": "stderr",
     "output_type": "stream",
     "text": [
      "\n"
     ]
    }
   ],
   "source": [
    "# Train ten one-against-the-rest regression forests for the 10 digits.\n",
    "# Make sure that all training sets are balanced between the current digit and the rest.\n",
    "# Assign test instances to the digit with highest score, \n",
    "# or to \"unknown\" if all scores are negative.\n",
    "# Compute and plot the confusion matrix after 5-fold cross-validation and comment on your results.\n",
    "X_train, X_test, y_train, y_test = train_test_split(features, labels, test_size=0.25)\n",
    "\n",
    "def regression_cross_validation(X_train, y_train, n_mins):\n",
    "    for n_min in n_mins:\n",
    "        n_folds = 5\n",
    "        k_folds = KFold(n_splits=n_folds)\n",
    "        mean_rate = np.zeros(n_folds)\n",
    "        for i, (train, val) in tqdm(enumerate(k_folds.split(X_train, y_train))):\n",
    "            train_X, train_y = X_train[train], y_train[train]\n",
    "            X_val, y_val = X_train[val], y_train[val]\n",
    "\n",
    "            reg_forest_list = []\n",
    "            for digit in range(10):\n",
    "                # for regression, we use labels +1 for digit and -1 for the rest\n",
    "                responses = np.array([1 if l == digit else -1 for l in train_y])\n",
    "                RegForest = RegressionForest(n_trees=10, n_min=n_min)\n",
    "                RegForest.train(train_X, responses)\n",
    "                reg_forest_list.append(RegForest)\n",
    "                \n",
    "            y_preds = []\n",
    "            for sample in range(X_val.shape[0]):\n",
    "                reg_forest_model_pred_list = []\n",
    "                for reg_forest_model in reg_forest_list:\n",
    "                    reg_forest_model_pred_list.append(reg_forest_model.predict(X_val[sample]))\n",
    "                idx_pred = np.argmax(reg_forest_model_pred_list)\n",
    "                if reg_forest_model_pred_list[idx_pred] <= 0:\n",
    "                    y_preds.append(np.nan)\n",
    "                else:\n",
    "                    y_preds.append(idx_pred)\n",
    "            y_preds = np.array(y_preds)\n",
    "            mean_rate[i-1] = np.mean(y_preds != y_val)\n",
    "        print(f\"The mean error rate for training with n_min of {n_min}: {np.mean(mean_rate)}, standard deviation: {np.std(mean_rate)}\")\n",
    "\n",
    "regression_cross_validation(X_train, y_train, [5])"
   ]
  },
  {
   "cell_type": "code",
   "execution_count": 27,
   "metadata": {},
   "outputs": [],
   "source": [
    "n_min = 5\n",
    "reg_forest_list = []\n",
    "for digit in range(10):\n",
    "    # for regression, we use labels +1 for digit and -1 for the rest\n",
    "    responses = np.array([1 if l == digit else -1 for l in y_train])\n",
    "    RegForest = RegressionForest(n_trees=10, n_min=n_min)\n",
    "    RegForest.train(X_train, responses)\n",
    "    reg_forest_list.append(RegForest)\n",
    "    \n",
    "y_preds = []\n",
    "for sample in range(X_test.shape[0]):\n",
    "    reg_forest_model_pred_list = []\n",
    "    for reg_forest_model in reg_forest_list:\n",
    "        reg_forest_model_pred_list.append(reg_forest_model.predict(X_test[sample]))\n",
    "    idx_pred = np.argmax(reg_forest_model_pred_list)\n",
    "    if reg_forest_model_pred_list[idx_pred] <= 0:\n",
    "        y_preds.append(10)\n",
    "    else:\n",
    "        y_preds.append(idx_pred)\n",
    "y_preds = np.array(y_preds)"
   ]
  },
  {
   "cell_type": "code",
   "execution_count": 31,
   "metadata": {},
   "outputs": [
    {
     "name": "stdout",
     "output_type": "stream",
     "text": [
      "[[36  0  0  0  0  0  0  0  0  0  0]\n",
      " [ 0 43  0  0  0  0  2  0  0  0  0]\n",
      " [ 0  0 40  0  0  0  0  0  0  0  0]\n",
      " [ 0  0  0 34  0  0  0  0  0  0  0]\n",
      " [ 0  0  0  0 36  0  0  0  0  0  0]\n",
      " [ 0  0  0  0  0 42  0  0  0  0  0]\n",
      " [ 0  0  0  0  0  0 43  0  0  0  0]\n",
      " [ 0  0  0  0  0  0  0 40  0  0  0]\n",
      " [ 0  0  0  0  0  0  0  0 25  0  0]\n",
      " [ 0  0  0  0  0  0  0  0  0 25  0]\n",
      " [ 1  5  6 15 10 12  1  4 17 13  0]]\n"
     ]
    }
   ],
   "source": [
    "# Confusion Matrices\n",
    "confusion_matrix_val = confusion_matrix(y_preds, y_test)\n",
    "print(confusion_matrix_val)"
   ]
  },
  {
   "cell_type": "code",
   "execution_count": 33,
   "metadata": {},
   "outputs": [
    {
     "name": "stderr",
     "output_type": "stream",
     "text": [
      "/var/folders/47/kf2nw7g97xj4bnnf6pdqwq640000gp/T/ipykernel_14875/2331623182.py:61: RuntimeWarning: invalid value encountered in divide\n",
      "  cm = cm.astype('float') / cm.sum(axis=1)[:, np.newaxis]\n"
     ]
    },
    {
     "data": {
      "image/png": "[encoded data removed]",
      "text/plain": [
       "<Figure size 800x600 with 2 Axes>"
      ]
     },
     "metadata": {},
     "output_type": "display_data"
    }
   ],
   "source": [
    "# confusion matrix for all digits\n",
    "plot_confusion_matrix(\n",
    "    confusion_matrix_val.T\n",
    "    , [str(i) for i in range(10)] + [\"unknown\"]\n",
    "    , title=\"One agaings all regression forest confusion matrix\"\n",
    ")"
   ]
  },
  {
   "cell_type": "markdown",
   "metadata": {},
   "source": [
    "We can see, that the correct predictions are generally quite high. However, for digit 9, 8 and 3 the corresponding models are often unsure. Probably due to the fact, that those three digits are visually similar to each other. Also we can see that of course unknown true labels. "
   ]
  }
 ],
 "metadata": {
  "kernelspec": {
   "display_name": "Python 3 (ipykernel)",
   "language": "python",
   "name": "python3"
  },
  "language_info": {
   "codemirror_mode": {
    "name": "ipython",
    "version": 3
   },
   "file_extension": ".py",
   "mimetype": "text/x-python",
   "name": "python",
   "nbconvert_exporter": "python",
   "pygments_lexer": "ipython3",
   "version": "3.10.11"
  },
  "vscode": {
   "interpreter": {
    "hash": "e58a8ccaa852cc08331f37e17949d170386811f8cc6b88ac3f9ac5095eeb8162"
   }
  }
 },
 "nbformat": 4,
 "nbformat_minor": 4
}
