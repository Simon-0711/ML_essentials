{
 "cells": [
  {
   "cell_type": "code",
   "execution_count": 118,
   "metadata": {},
   "outputs": [],
   "source": [
    "import numpy as np\n",
    "import scipy\n",
    "from scipy.sparse import coo_matrix\n",
    "\n",
    "def construct_X(M, alphas, Np=None):\n",
    "    # Total number of pixels in the tomogram\n",
    "    D = M * M  \n",
    "    # Number of projection angles\n",
    "    No = len(alphas)  \n",
    "    \n",
    "    if Np is None:\n",
    "        # Default sensor resolution\n",
    "        Np = int(np.ceil(np.sqrt(2) * M))  \n",
    "    # Total number of sensor elements\n",
    "    N = No * Np  \n",
    "\n",
    "    h = 1  # Pixel distance\n",
    "    \n",
    "    # Define the coordinates of the tomogram's pixel centers\n",
    "    a0 = -(M-1) / 2\n",
    "    b0 = -(M-1) / 2\n",
    "    ja, jb = np.mgrid[0:M, 0:M].reshape(2, -1)\n",
    "    C0, C1 = [], []\n",
    "\n",
    "    for i in range(0, M*M):\n",
    "        C0.append(a0 + ja[i] * h)\n",
    "        C1.append(b0 + jb[i] * h)\n",
    "    C = np.array([C0, np.flip(C1,0)])\n",
    "\n",
    "    X_entries = []\n",
    "    i_indices = []\n",
    "    j_indices = []\n",
    "    \n",
    "    for io, alpha in enumerate(alphas):\n",
    "        # Convert angle to radians\n",
    "        alpha_rad = np.radians(alpha)  \n",
    "\n",
    "        # Compute the current orientation as a unit vector\n",
    "        n = np.array([np.cos(alpha_rad), np.sin(alpha_rad)])\n",
    "\n",
    "        # Compute the projection of each pixel onto the sensor\n",
    "        # Distance between the first sensor element and the coordinate origin\n",
    "        s0 = (Np - 1) / 2  \n",
    "        p = np.dot(n.T, C) + s0\n",
    "        \n",
    "        # Compute the weights for each pixel\n",
    "        # Sensor element indices\n",
    "        ip = np.floor(p).astype(int)\n",
    "        ip_add = ip + 1\n",
    "        rest_intensity = p - ip  \n",
    "        weights = np.array([1 - rest_intensity, rest_intensity])\n",
    "        \n",
    "        # Keep track of the non-zero entries of X\n",
    "        valid_indices = np.where((ip < Np))[0]\n",
    "        valid_ip = ip[valid_indices]\n",
    "        valid_j = ja[valid_indices] + M * jb[valid_indices]\n",
    "        valid_weights = weights[0,:][valid_indices]\n",
    "        for w in valid_weights:\n",
    "            X_entries.append(w)\n",
    "        i_indices.extend(valid_ip + Np * io)\n",
    "        j_indices.extend(valid_j)\n",
    "\n",
    "        valid_indices = np.where((ip_add < Np))[0]\n",
    "        valid_ip_add = ip_add[valid_indices]\n",
    "        valid_j = ja[valid_indices] + M * jb[valid_indices]\n",
    "        valid_weights = weights[1,:][valid_indices]\n",
    "        for w in valid_weights:\n",
    "            X_entries.append(w)\n",
    "        i_indices.extend(valid_ip_add + Np * io)\n",
    "        j_indices.extend(valid_j)\n",
    "\n",
    "    X = coo_matrix((X_entries, (i_indices, j_indices)), shape=(N, D), dtype=np.float32)\n",
    "\n",
    "    return X\n"
   ]
  },
  {
   "cell_type": "code",
   "execution_count": 119,
   "metadata": {},
   "outputs": [
    {
     "data": {
      "image/png": "[encoded data removed]",
      "text/plain": [
       "<Figure size 640x480 with 1 Axes>"
      ]
     },
     "metadata": {},
     "output_type": "display_data"
    }
   ],
   "source": [
    "import matplotlib.pyplot as plt\n",
    "\n",
    "# Example usage\n",
    "M = 10\n",
    "alphas = [-33, 1, 42]\n",
    "X = construct_X(M, alphas, 15)\n",
    "\n",
    "# Convert sparse matrix to a dense numpy array for visualization\n",
    "X_dense = X.toarray()\n",
    "\n",
    "# X_dense = np.flip(X_dense, 0)\n",
    "# X_dense = np.flip(X_dense, 1)\n",
    "\n",
    "plt.imshow(X_dense, cmap='gray')\n",
    "plt.show()\n"
   ]
  },
  {
   "cell_type": "code",
   "execution_count": 103,
   "metadata": {},
   "outputs": [
    {
     "data": {
      "image/png": "[encoded data removed]",
      "text/plain": [
       "<Figure size 640x480 with 1 Axes>"
      ]
     },
     "metadata": {},
     "output_type": "display_data"
    }
   ],
   "source": [
    "X_ex = np.load('hs_tomography/X_example.npy')\n",
    "\n",
    "plt.imshow(X_ex, cmap='gray')\n",
    "plt.show()"
   ]
  },
  {
   "cell_type": "code",
   "execution_count": 6,
   "metadata": {},
   "outputs": [
    {
     "ename": "ValueError",
     "evalue": "dimension mismatch",
     "output_type": "error",
     "traceback": [
      "\u001b[0;31m---------------------------------------------------------------------------\u001b[0m",
      "\u001b[0;31mValueError\u001b[0m                                Traceback (most recent call last)",
      "Cell \u001b[0;32mIn[6], line 15\u001b[0m\n\u001b[1;32m     13\u001b[0m X_sparse \u001b[39m=\u001b[39m scipy\u001b[39m.\u001b[39msparse\u001b[39m.\u001b[39mcsc_matrix(X)  \u001b[39m# Convert X to sparse matrix\u001b[39;00m\n\u001b[1;32m     14\u001b[0m tol \u001b[39m=\u001b[39m \u001b[39m1e-05\u001b[39m  \u001b[39m# Tolerance for the solver\u001b[39;00m\n\u001b[0;32m---> 15\u001b[0m beta, _ \u001b[39m=\u001b[39m linalg\u001b[39m.\u001b[39;49mlsqr(X_sparse, y, atol\u001b[39m=\u001b[39;49mtol, btol\u001b[39m=\u001b[39;49mtol)[:\u001b[39m2\u001b[39m]\n\u001b[1;32m     17\u001b[0m \u001b[39m# Reshape beta to a 2D array based on the desired image dimensions\u001b[39;00m\n\u001b[1;32m     18\u001b[0m image_width \u001b[39m=\u001b[39m \u001b[39m10\u001b[39m  \u001b[39m# Specify the desired image width (number of columns)\u001b[39;00m\n",
      "File \u001b[0;32m~/opt/anaconda3/envs/ml_homework/lib/python3.11/site-packages/scipy/sparse/linalg/_isolve/lsqr.py:384\u001b[0m, in \u001b[0;36mlsqr\u001b[0;34m(A, b, damp, atol, btol, conlim, iter_lim, show, calc_var, x0)\u001b[0m\n\u001b[1;32m    382\u001b[0m \u001b[39mif\u001b[39;00m beta \u001b[39m>\u001b[39m \u001b[39m0\u001b[39m:\n\u001b[1;32m    383\u001b[0m     u \u001b[39m=\u001b[39m (\u001b[39m1\u001b[39m\u001b[39m/\u001b[39mbeta) \u001b[39m*\u001b[39m u\n\u001b[0;32m--> 384\u001b[0m     v \u001b[39m=\u001b[39m A\u001b[39m.\u001b[39;49mrmatvec(u)\n\u001b[1;32m    385\u001b[0m     alfa \u001b[39m=\u001b[39m np\u001b[39m.\u001b[39mlinalg\u001b[39m.\u001b[39mnorm(v)\n\u001b[1;32m    386\u001b[0m \u001b[39melse\u001b[39;00m:\n",
      "File \u001b[0;32m~/opt/anaconda3/envs/ml_homework/lib/python3.11/site-packages/scipy/sparse/linalg/_interface.py:277\u001b[0m, in \u001b[0;36mLinearOperator.rmatvec\u001b[0;34m(self, x)\u001b[0m\n\u001b[1;32m    274\u001b[0m M,N \u001b[39m=\u001b[39m \u001b[39mself\u001b[39m\u001b[39m.\u001b[39mshape\n\u001b[1;32m    276\u001b[0m \u001b[39mif\u001b[39;00m x\u001b[39m.\u001b[39mshape \u001b[39m!=\u001b[39m (M,) \u001b[39mand\u001b[39;00m x\u001b[39m.\u001b[39mshape \u001b[39m!=\u001b[39m (M,\u001b[39m1\u001b[39m):\n\u001b[0;32m--> 277\u001b[0m     \u001b[39mraise\u001b[39;00m \u001b[39mValueError\u001b[39;00m(\u001b[39m'\u001b[39m\u001b[39mdimension mismatch\u001b[39m\u001b[39m'\u001b[39m)\n\u001b[1;32m    279\u001b[0m y \u001b[39m=\u001b[39m \u001b[39mself\u001b[39m\u001b[39m.\u001b[39m_rmatvec(x)\n\u001b[1;32m    281\u001b[0m \u001b[39mif\u001b[39;00m \u001b[39misinstance\u001b[39m(x, np\u001b[39m.\u001b[39mmatrix):\n",
      "\u001b[0;31mValueError\u001b[0m: dimension mismatch"
     ]
    }
   ],
   "source": [
    "import numpy as np\n",
    "import scipy.sparse.linalg as linalg\n",
    "import matplotlib.pyplot as plt\n",
    "\n",
    "# Load the data\n",
    "alphas = np.load('hs_tomography/alphas_77.npy')\n",
    "y = np.load('hs_tomography/y_77.npy')\n",
    "\n",
    "# Construct X matrix\n",
    "# ... Code for constructing X matrix ...\n",
    "\n",
    "# Find the least-squares solution using lsqr solver\n",
    "X_sparse = scipy.sparse.csc_matrix(X)  # Convert X to sparse matrix\n",
    "tol = 1e-05  # Tolerance for the solver\n",
    "beta, _ = linalg.lsqr(X_sparse, y, atol=tol, btol=tol)[:2]\n",
    "\n",
    "# Reshape beta to a 2D array based on the desired image dimensions\n",
    "image_width = 10  # Specify the desired image width (number of columns)\n",
    "image_height = len(beta) // image_width  # Calculate the corresponding image height (number of rows)\n",
    "image = np.reshape(beta, (image_height, image_width))\n",
    "\n",
    "# Plot the image\n",
    "plt.imshow(image, cmap='gray')  # Use a grayscale colormap\n",
    "plt.title(\"Reconstructed Tomogram\")\n",
    "plt.colorbar()  # Add a colorbar for reference\n",
    "plt.show()\n",
    "\n"
   ]
  },
  {
   "cell_type": "code",
   "execution_count": 151,
   "metadata": {},
   "outputs": [
    {
     "ename": "TypeError",
     "evalue": "sparse matrix length is ambiguous; use getnnz() or shape[0]",
     "output_type": "error",
     "traceback": [
      "\u001b[1;31m---------------------------------------------------------------------------\u001b[0m",
      "\u001b[1;31mTypeError\u001b[0m                                 Traceback (most recent call last)",
      "Cell \u001b[1;32mIn[151], line 8\u001b[0m\n\u001b[0;32m      4\u001b[0m \u001b[39m# Assuming you have reconstructed the tomogram and obtained β as a 1D array or list\u001b[39;00m\n\u001b[0;32m      5\u001b[0m \n\u001b[0;32m      6\u001b[0m \u001b[39m# Reshape β to a 2D array based on the desired image dimensions\u001b[39;00m\n\u001b[0;32m      7\u001b[0m image_width \u001b[39m=\u001b[39m \u001b[39m10\u001b[39m  \u001b[39m# Specify the desired image width (number of columns)\u001b[39;00m\n\u001b[1;32m----> 8\u001b[0m image_height \u001b[39m=\u001b[39m \u001b[39mlen\u001b[39;49m(X) \u001b[39m/\u001b[39m\u001b[39m/\u001b[39m image_width  \u001b[39m# Calculate the corresponding image height (number of rows)\u001b[39;00m\n\u001b[0;32m      9\u001b[0m image \u001b[39m=\u001b[39m np\u001b[39m.\u001b[39mreshape(X, (image_height, image_width))\n\u001b[0;32m     11\u001b[0m \u001b[39m# Plot the image\u001b[39;00m\n",
      "File \u001b[1;32mc:\\Users\\Jakob\\anaconda3\\envs\\ML_essentials\\lib\\site-packages\\scipy\\sparse\\_base.py:345\u001b[0m, in \u001b[0;36mspmatrix.__len__\u001b[1;34m(self)\u001b[0m\n\u001b[0;32m    344\u001b[0m \u001b[39mdef\u001b[39;00m \u001b[39m__len__\u001b[39m(\u001b[39mself\u001b[39m):\n\u001b[1;32m--> 345\u001b[0m     \u001b[39mraise\u001b[39;00m \u001b[39mTypeError\u001b[39;00m(\u001b[39m\"\u001b[39m\u001b[39msparse matrix length is ambiguous; use getnnz()\u001b[39m\u001b[39m\"\u001b[39m\n\u001b[0;32m    346\u001b[0m                     \u001b[39m\"\u001b[39m\u001b[39m or shape[0]\u001b[39m\u001b[39m\"\u001b[39m)\n",
      "\u001b[1;31mTypeError\u001b[0m: sparse matrix length is ambiguous; use getnnz() or shape[0]"
     ]
    }
   ],
   "source": [
    "import numpy as np\n",
    "import matplotlib.pyplot as plt\n",
    "\n",
    "# Assuming you have reconstructed the tomogram and obtained β as a 1D array or list\n",
    "\n",
    "# Reshape β to a 2D array based on the desired image dimensions\n",
    "image_width = 10  # Specify the desired image width (number of columns)\n",
    "image_height = len(X) // image_width  # Calculate the corresponding image height (number of rows)\n",
    "image = np.reshape(X, (image_height, image_width))\n",
    "\n",
    "# Plot the image\n",
    "plt.imshow(image, cmap='gray')  # Use a grayscale colormap\n",
    "plt.title(\"Reconstructed Tomogram\")\n",
    "plt.colorbar()  # Add a colorbar for reference\n",
    "plt.show()\n"
   ]
  }
 ],
 "metadata": {
  "kernelspec": {
   "display_name": "ml_homework",
   "language": "python",
   "name": "python3"
  },
  "language_info": {
   "codemirror_mode": {
    "name": "ipython",
    "version": 3
   },
   "file_extension": ".py",
   "mimetype": "text/x-python",
   "name": "python",
   "nbconvert_exporter": "python",
   "pygments_lexer": "ipython3",
   "version": "3.11.3"
  },
  "orig_nbformat": 4,
  "vscode": {
   "interpreter": {
    "hash": "e58a8ccaa852cc08331f37e17949d170386811f8cc6b88ac3f9ac5095eeb8162"
   }
  }
 },
 "nbformat": 4,
 "nbformat_minor": 2
}
