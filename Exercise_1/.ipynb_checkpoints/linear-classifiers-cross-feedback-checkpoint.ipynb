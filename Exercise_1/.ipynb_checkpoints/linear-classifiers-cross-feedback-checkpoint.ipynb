{
 "cells": [
  {
   "cell_type": "markdown",
   "metadata": {},
   "source": [
    "# 1 Exploring the Data"
   ]
  },
  {
   "cell_type": "code",
   "execution_count": 1,
   "metadata": {},
   "outputs": [
    {
     "name": "stdout",
     "output_type": "stream",
     "text": [
      "dict_keys(['data', 'target', 'frame', 'feature_names', 'target_names', 'images', 'DESCR'])\n"
     ]
    }
   ],
   "source": [
    "from sklearn.datasets import load_digits\n",
    "digits = load_digits()\n",
    "print (digits.keys())\n",
    "data = digits [\"data\"]\n",
    "images = digits [\"images\"]\n",
    "target = digits [\"target\"]\n",
    "target_names = digits [\"target_names\"]"
   ]
  },
  {
   "cell_type": "code",
   "execution_count": 2,
   "metadata": {},
   "outputs": [
    {
     "data": {
      "image/png": "[encoded data removed]",
      "text/plain": [
       "<Figure size 432x288 with 1 Axes>"
      ]
     },
     "metadata": {
      "needs_background": "light"
     },
     "output_type": "display_data"
    }
   ],
   "source": [
    "import numpy as np\n",
    "import matplotlib . pyplot as plt\n",
    "is_3 = target == 3\n",
    "img = data[is_3][2].reshape(8, 8) # Reshape the data to 8x8 image\n",
    "assert 2 == len(img.shape)\n",
    "plt.figure()\n",
    "plt.gray()\n",
    "plt.imshow(img, interpolation=\"nearest\") # also try interpolation=\"bicubic\"\n",
    "plt.show()"
   ]
  },
  {
   "cell_type": "markdown",
   "metadata": {},
   "source": [
    "<div style=\"color: green; font-weight:\n",
    "bold\">\n",
    "Coorect usage of np.logical_or as in the sample solution. \n",
    "No normalization or relabeling as in sample solution.\n",
    "</div>"
   ]
  },
  {
   "cell_type": "code",
   "execution_count": 3,
   "metadata": {},
   "outputs": [],
   "source": [
    "from sklearn import model_selection\n",
    "\n",
    "# Filter dataset to only include digits 3 and 9\n",
    "is_3_or_9 = np.logical_or(target == 3, target == 9)\n",
    "data_3_or_9 = data[is_3_or_9]\n",
    "target_3_or_9 = target[is_3_or_9]\n",
    "\n",
    "X_all = data_3_or_9\n",
    "y_all = target_3_or_9\n",
    "X_train , X_test , y_train , y_test =\\\n",
    "model_selection.train_test_split (X_all, y_all,\n",
    "test_size = 0.4, random_state = 0)"
   ]
  },
  {
   "cell_type": "markdown",
   "metadata": {},
   "source": [
    "# 2 Handcrafted Classifier"
   ]
  },
  {
   "cell_type": "markdown",
   "metadata": {},
   "source": [
    "<div style=\"color: green; font-weight:\n",
    "bold\">\n",
    "Their solution is missing the entire visual exploration phase where possible good pixels are selected.\n",
    "However, the biggest difference between pixels brightness is calculated programmatically for the top 5 most different pixels.\n",
    "</div>"
   ]
  },
  {
   "cell_type": "code",
   "execution_count": 4,
   "metadata": {},
   "outputs": [
    {
     "name": "stdout",
     "output_type": "stream",
     "text": [
      "Pixel 1: Index 26, Difference 8.957650273224044\n",
      "Pixel 2: Index 18, Difference 8.795081967213115\n",
      "Pixel 3: Index 29, Difference 8.454553734061932\n",
      "Pixel 4: Index 36, Difference 6.954735883424408\n",
      "Pixel 5: Index 21, Difference 4.788706739526411\n"
     ]
    }
   ],
   "source": [
    "# Calculate mean\n",
    "mean_3 = np.mean(data_3_or_9[target_3_or_9 == 3], axis=0)\n",
    "mean_9 = np.mean(data_3_or_9[target_3_or_9 == 9], axis=0)\n",
    "pixel_diffs = np.abs(mean_3 - mean_9)\n",
    "k = 5\n",
    "top_k_indices = np.argsort(pixel_diffs)[::-1][:k]\n",
    "for i, idx in enumerate(top_k_indices):\n",
    "    print(f\"Pixel {i+1}: Index {idx}, Difference {pixel_diffs[idx]}\")"
   ]
  },
  {
   "cell_type": "markdown",
   "metadata": {},
   "source": [
    "<div style=\"color: green; font-weight:\n",
    "bold\">\n",
    "Both solutions are correct and use a vectorized approach\n",
    "</div>"
   ]
  },
  {
   "cell_type": "code",
   "execution_count": 5,
   "metadata": {},
   "outputs": [],
   "source": [
    "def features2d(X):\n",
    "    # Define indices of two pixels that seem to distinguish between 3's and 9's\n",
    "    pixel1_idx = 26\n",
    "    pixel2_idx = 18\n",
    "    pixel1 = X[:, pixel1_idx]\n",
    "    pixel2 = X[:, pixel2_idx]\n",
    "    \n",
    "    # Construct 2-dimensional feature space using a linear combination of the two pixels\n",
    "    features = np.stack([pixel1, pixel2], axis=1)\n",
    "    \n",
    "    return features"
   ]
  },
  {
   "cell_type": "code",
   "execution_count": 6,
   "metadata": {},
   "outputs": [
    {
     "name": "stdout",
     "output_type": "stream",
     "text": [
      "[[16. 16.]\n",
      " [ 4. 15.]\n",
      " [14. 13.]\n",
      " [ 1.  0.]\n",
      " [10. 16.]\n",
      " [13.  9.]\n",
      " [ 0.  0.]\n",
      " [ 0.  0.]\n",
      " [15. 16.]\n",
      " [ 3. 11.]\n",
      " [ 5. 10.]\n",
      " [16. 16.]\n",
      " [ 9.  0.]\n",
      " [ 0. 14.]\n",
      " [16. 10.]\n",
      " [ 7. 15.]\n",
      " [ 0.  0.]\n",
      " [ 1.  8.]\n",
      " [ 0.  3.]\n",
      " [ 0.  0.]\n",
      " [ 0.  3.]\n",
      " [ 9. 16.]\n",
      " [ 9.  6.]\n",
      " [12. 15.]\n",
      " [ 0.  0.]\n",
      " [ 0.  0.]\n",
      " [14. 16.]\n",
      " [14. 11.]\n",
      " [14. 12.]\n",
      " [ 2.  0.]\n",
      " [ 7. 16.]\n",
      " [11.  6.]\n",
      " [ 0.  0.]\n",
      " [12. 14.]\n",
      " [ 4. 13.]\n",
      " [ 0.  0.]\n",
      " [ 3.  2.]\n",
      " [ 3.  3.]\n",
      " [ 0.  3.]\n",
      " [16.  9.]\n",
      " [12. 16.]\n",
      " [ 0.  0.]\n",
      " [13. 16.]\n",
      " [12. 15.]\n",
      " [ 6. 12.]\n",
      " [10. 13.]\n",
      " [ 2. 16.]\n",
      " [14. 12.]\n",
      " [13. 10.]\n",
      " [16. 15.]\n",
      " [ 5.  0.]\n",
      " [15. 14.]\n",
      " [16.  6.]\n",
      " [11. 16.]\n",
      " [16. 11.]\n",
      " [ 0.  0.]\n",
      " [ 0.  1.]\n",
      " [14. 15.]\n",
      " [10.  5.]\n",
      " [ 2.  3.]\n",
      " [13. 16.]\n",
      " [16.  7.]\n",
      " [ 4. 11.]\n",
      " [16. 14.]\n",
      " [ 0.  0.]\n",
      " [ 0.  7.]\n",
      " [11. 16.]\n",
      " [ 2.  3.]\n",
      " [ 0.  8.]\n",
      " [ 1. 10.]\n",
      " [ 0.  0.]\n",
      " [16. 15.]\n",
      " [ 0.  3.]\n",
      " [ 0.  2.]\n",
      " [13. 11.]\n",
      " [15.  9.]\n",
      " [15. 16.]\n",
      " [ 7.  9.]\n",
      " [ 0.  0.]\n",
      " [12. 14.]\n",
      " [ 0. 11.]\n",
      " [ 1.  4.]\n",
      " [ 1.  8.]\n",
      " [ 0.  0.]\n",
      " [ 2. 14.]\n",
      " [ 2. 14.]\n",
      " [ 0.  0.]\n",
      " [ 0.  1.]\n",
      " [10.  0.]\n",
      " [ 9. 16.]\n",
      " [ 2.  0.]\n",
      " [16. 16.]\n",
      " [ 0. 10.]\n",
      " [10. 15.]\n",
      " [ 0. 13.]\n",
      " [ 2. 15.]\n",
      " [16. 14.]\n",
      " [ 0.  0.]\n",
      " [ 0.  0.]\n",
      " [ 0. 15.]\n",
      " [ 0.  4.]\n",
      " [ 0.  0.]\n",
      " [ 0.  0.]\n",
      " [ 6. 15.]\n",
      " [ 0.  8.]\n",
      " [13. 10.]\n",
      " [ 0.  0.]\n",
      " [ 0.  0.]\n",
      " [ 5.  0.]\n",
      " [12. 12.]\n",
      " [12. 16.]\n",
      " [16. 16.]\n",
      " [14.  2.]\n",
      " [ 6. 14.]\n",
      " [ 3. 16.]\n",
      " [ 2. 14.]\n",
      " [11.  7.]\n",
      " [ 9. 13.]\n",
      " [ 0.  3.]\n",
      " [ 9. 11.]\n",
      " [ 0. 12.]\n",
      " [14. 11.]\n",
      " [ 2.  8.]\n",
      " [ 0.  0.]\n",
      " [ 2.  1.]\n",
      " [10. 16.]\n",
      " [ 2.  0.]\n",
      " [ 3.  2.]\n",
      " [ 5. 11.]\n",
      " [13. 15.]\n",
      " [ 3.  8.]\n",
      " [12. 12.]\n",
      " [ 3.  7.]\n",
      " [ 9. 16.]\n",
      " [ 1.  0.]\n",
      " [ 0.  1.]\n",
      " [ 3. 13.]\n",
      " [15. 11.]\n",
      " [12. 16.]\n",
      " [12.  7.]\n",
      " [ 1.  5.]\n",
      " [ 0.  2.]\n",
      " [ 4. 13.]\n",
      " [16. 15.]\n",
      " [ 6.  0.]\n",
      " [12. 16.]\n",
      " [ 0.  0.]\n",
      " [ 0.  0.]\n",
      " [12. 14.]\n",
      " [ 0. 12.]\n",
      " [ 0.  0.]\n",
      " [ 0.  2.]\n",
      " [ 4. 13.]\n",
      " [ 0.  5.]\n",
      " [11. 15.]\n",
      " [13.  7.]\n",
      " [ 7. 15.]\n",
      " [ 2.  7.]\n",
      " [14. 16.]\n",
      " [ 4.  6.]\n",
      " [ 0.  0.]\n",
      " [ 9. 10.]\n",
      " [ 0.  9.]\n",
      " [15. 16.]\n",
      " [ 0.  0.]\n",
      " [ 4. 10.]\n",
      " [ 0.  5.]\n",
      " [15. 12.]\n",
      " [ 8. 13.]\n",
      " [ 0.  0.]\n",
      " [ 5. 13.]\n",
      " [11.  7.]\n",
      " [ 0.  3.]\n",
      " [ 0.  0.]\n",
      " [ 0.  0.]\n",
      " [ 4. 12.]\n",
      " [ 0.  1.]\n",
      " [10. 16.]\n",
      " [15. 13.]\n",
      " [15. 16.]\n",
      " [ 2. 15.]\n",
      " [ 0.  0.]\n",
      " [ 0.  5.]\n",
      " [ 0. 10.]\n",
      " [ 5. 11.]\n",
      " [ 0.  6.]\n",
      " [ 0. 10.]\n",
      " [ 6. 14.]\n",
      " [ 3.  0.]\n",
      " [ 0.  7.]\n",
      " [13.  7.]\n",
      " [ 0.  0.]\n",
      " [ 0.  5.]\n",
      " [ 9. 16.]\n",
      " [ 1.  0.]\n",
      " [11.  2.]\n",
      " [ 0.  0.]\n",
      " [ 0.  0.]\n",
      " [ 5.  0.]\n",
      " [ 0.  0.]\n",
      " [ 0.  0.]\n",
      " [ 2. 11.]\n",
      " [ 0. 15.]\n",
      " [16. 13.]\n",
      " [ 0. 11.]\n",
      " [ 4. 16.]\n",
      " [11.  6.]\n",
      " [ 0.  3.]\n",
      " [11.  7.]\n",
      " [ 0.  0.]\n",
      " [ 0.  3.]\n",
      " [ 0.  0.]\n",
      " [ 0.  0.]\n",
      " [ 0.  0.]\n",
      " [ 6. 12.]\n",
      " [ 0.  0.]\n",
      " [ 0.  0.]]\n"
     ]
    }
   ],
   "source": [
    "print(features2d(X_train))"
   ]
  },
  {
   "cell_type": "markdown",
   "metadata": {},
   "source": [
    "<div style=\"color: green; font-weight:\n",
    "bold\">\n",
    "The visualization of the plots are generally the same. However, the sample solution splits the scatter plots int otrianing and test data and a worse features scatter plot.\n",
    "</div>"
   ]
  },
  {
   "cell_type": "code",
   "execution_count": 7,
   "metadata": {},
   "outputs": [
    {
     "data": {
      "image/png": "[encoded data removed]",
      "text/plain": [
       "<Figure size 576x576 with 1 Axes>"
      ]
     },
     "metadata": {
      "needs_background": "light"
     },
     "output_type": "display_data"
    }
   ],
   "source": [
    "# Extract 2D features from training set\n",
    "X_train_2d = features2d(X_train)\n",
    "\n",
    "# Create scatter plot of 2D feature space\n",
    "plt.figure(figsize=(8, 8))\n",
    "plt.scatter(X_train_2d[y_train == 3, 0], X_train_2d[y_train == 3, 1], c='b', marker='o', label='Digit 3')\n",
    "plt.scatter(X_train_2d[y_train == 9, 0], X_train_2d[y_train == 9, 1], c='r', marker='x', label='Digit 9')\n",
    "plt.title('Scatter Plot of 2D Feature Space')\n",
    "plt.xlabel('Pixel 26')\n",
    "plt.ylabel('Pixel 18')\n",
    "plt.legend()\n",
    "plt.show()"
   ]
  },
  {
   "cell_type": "markdown",
   "metadata": {},
   "source": [
    "<div style=\"color: green; font-weight:\n",
    "bold\">\n",
    "The solution generates correct and plausible results. However, for loops are used when predicting the labels, which is bad for performance. A vectorized approach as used in the sample solution should be used. \n",
    "Labels are converted to -1 and 1 as in sample solution.\n",
    "</div>"
   ]
  },
  {
   "cell_type": "code",
   "execution_count": 8,
   "metadata": {},
   "outputs": [
    {
     "name": "stdout",
     "output_type": "stream",
     "text": [
      "Training error: 0.11059907834101379\n",
      "Test error: 0.0821917808219178\n"
     ]
    }
   ],
   "source": [
    "from sklearn.metrics import accuracy_score\n",
    "\n",
    "def nearest_mean(training_features, training_labels, test_features):\n",
    "    mean_3 = np.mean(training_features[training_labels == -1], axis=0)\n",
    "    mean_9 = np.mean(training_features[training_labels == 1], axis=0)\n",
    "\n",
    "    def dist(x, y):\n",
    "        return np.sum((x - y) ** 2)\n",
    "\n",
    "    predicted_labels = []\n",
    "    for i in range(len(test_features)):\n",
    "        dist_3 = dist(test_features[i], mean_3)\n",
    "        dist_9 = dist(test_features[i], mean_9)\n",
    "        if dist_3 < dist_9:\n",
    "            predicted_labels.append(-1)\n",
    "        else:\n",
    "            predicted_labels.append(1)\n",
    "\n",
    "    return np.array(predicted_labels)\n",
    "\n",
    "\n",
    "y_train_new = np.where(y_train == 3, -1, 1) # Convert 3's to -1's and 9's to 1's\n",
    "y_test_new = np.where(y_test == 3, -1, 1) # Convert 3's to -1's and 9's to 1's\n",
    "\n",
    "# Compute training error\n",
    "train_preds = nearest_mean(X_train_2d, y_train_new, X_train_2d)\n",
    "train_acc = accuracy_score(y_train_new, train_preds)\n",
    "\n",
    "# Compute test error\n",
    "X_test_2d = features2d(X_test)\n",
    "test_preds = nearest_mean(X_train_2d, y_train_new, X_test_2d)\n",
    "test_acc = accuracy_score(y_test_new, test_preds)\n",
    "\n",
    "print('Training error:', 1 - train_acc)\n",
    "print('Test error:', 1 - test_acc)"
   ]
  },
  {
   "cell_type": "markdown",
   "metadata": {},
   "source": [
    "# linear combination of features"
   ]
  },
  {
   "cell_type": "markdown",
   "metadata": {},
   "source": [
    "<div style=\"color: green; font-weight:\n",
    "bold\">\n",
    "The solution provides the correct scatter plots including the decision boundaries as well as mean values for test and training data. The sample solution only provides it for one dataset but for two classifiers. \n",
    "The proposed solution however uses many for loops compared to the sample solution which should be vectorized to improve performance. \n",
    "Also comments are missing in general, which makes it hard to easily understand the quite huge code block for generating the plots.\n",
    "</div>"
   ]
  },
  {
   "cell_type": "code",
   "execution_count": 9,
   "metadata": {},
   "outputs": [
    {
     "name": "stdout",
     "output_type": "stream",
     "text": [
      "error of test set: 0.1232876712328767\n",
      "error of training set: 0.11981566820276497\n"
     ]
    },
    {
     "data": {
      "image/png": "[encoded data removed]",
      "text/plain": [
       "<Figure size 1224x360 with 2 Axes>"
      ]
     },
     "metadata": {
      "needs_background": "light"
     },
     "output_type": "display_data"
    }
   ],
   "source": [
    "def determine_feature_mean(features):\n",
    "    features_of_3 = []\n",
    "    features_of_9 = []\n",
    "\n",
    "    for i in range(len(y_train)):\n",
    "        if(y_train[i] == 3):\n",
    "            features_of_3.append(features[i])\n",
    "        if(y_train[i] == 9):\n",
    "            features_of_9.append(features[i])\n",
    "\n",
    "    mean_of_3 = [np.mean(np.array(features_of_3)[:,0]), np.mean(np.array(features_of_3)[:,1])]\n",
    "    mean_of_9 = [np.mean(np.array(features_of_9)[:,0]), np.mean(np.array(features_of_9)[:,1])]\n",
    "    \n",
    "    return mean_of_3, mean_of_9\n",
    "\n",
    "def nearest_mean(training_features, training_labels, test_features):\n",
    "    mean_of_3, mean_of_9 = determine_feature_mean(training_features)\n",
    "    \n",
    "    predicted_labels = []\n",
    "    for i in range(len(test_features)):\n",
    "        dist_to_3 = (test_features[i][0] - mean_of_3[0])**2 + (test_features[i][1] - mean_of_3[1])**2\n",
    "        dist_to_9 = (test_features[i][0] - mean_of_9[0])**2 + (test_features[i][1] - mean_of_9[1])**2\n",
    "        \n",
    "        if(dist_to_3 < dist_to_9):\n",
    "            predicted_labels.append(-1)\n",
    "        else:\n",
    "            predicted_labels.append(1)\n",
    "\n",
    "    return predicted_labels\n",
    "\n",
    "def calculate_error(predicted_labels, real_labels):    \n",
    "    number_errors = 0\n",
    "    for i in range(len(predicted_labels)):     \n",
    "        real_label_modified = -1 if real_labels[i] == 3 else 1\n",
    "        \n",
    "        if(not predicted_labels[i] == real_label_modified):\n",
    "            number_errors += 1\n",
    "         \n",
    "        #print(number_errors)\n",
    "    return number_errors / len(predicted_labels)\n",
    "\n",
    "def create_decision_line(features):\n",
    "    mean_of_3, mean_of_9 = determine_feature_mean(features)\n",
    "    \n",
    "    def line(x, a, b):\n",
    "        return a * x + b\n",
    "    \n",
    "    def inverse_line(y, a, b):\n",
    "        return (y - b) / a\n",
    "    \n",
    "    x_min = min(np.array(features)[:,0])\n",
    "    x_max = max(np.array(features)[:,0])\n",
    "    y_min = min(np.array(features)[:,1])\n",
    "    y_max = max(np.array(features)[:,1])\n",
    " \n",
    "    slope = (mean_of_3[1] - mean_of_9[1]) / (mean_of_3[0] - mean_of_9[0])\n",
    "    slope = -slope**-1\n",
    "    y_intersect = 0.5 * (mean_of_9[1] + mean_of_3[1]) - slope * 0.5 * (mean_of_9[0] + mean_of_3[0])\n",
    "    x = np.linspace(max(inverse_line(y_min, slope, y_intersect), x_min), min(inverse_line(y_max, slope, y_intersect), x_max), 10)\n",
    "\n",
    "    return x, line(x, slope, y_intersect)\n",
    "\n",
    "def do_all():\n",
    "    \n",
    "    def features2d(x):\n",
    "        features = []\n",
    "        for i in range(len(x)):\n",
    "            feature_of_3_i = x[i][20] + x[i][28] + 2*x[i][58]# some function of pixels\n",
    "            feature_of_9_i = x[i][26] + x[i][18] + x[i][37]\n",
    "\n",
    "            features.append([feature_of_3_i, feature_of_9_i])\n",
    "        return features\n",
    "        \n",
    "    \n",
    "\n",
    "    training_features = features2d(X_train)\n",
    "    test_features = features2d(X_test)\n",
    "    features_of_3 = []\n",
    "    features_of_9 = []\n",
    "\n",
    "    for i in range(len(y_train)):\n",
    "        if(y_train[i] == 3):\n",
    "            features_of_3.append(training_features[i])\n",
    "        if(y_train[i] == 9):\n",
    "            features_of_9.append(training_features[i])\n",
    "\n",
    "    mean_of_3, mean_of_9 = determine_feature_mean(training_features)\n",
    "    \n",
    "    predicted_test_labels = nearest_mean(training_features, y_train, test_features)\n",
    "    predicted_training_labels = nearest_mean(training_features, y_train, training_features)\n",
    "    \n",
    "    print(\"error of test set: \" + str(calculate_error(predicted_test_labels, y_test)))\n",
    "    print(\"error of training set: \" + str(calculate_error(predicted_training_labels, y_train)))\n",
    "       \n",
    "    plt.figure(figsize = (17,5))\n",
    "    plt.subplot(121)\n",
    "    x, y = create_decision_line(training_features)\n",
    "    plt.plot(x, y)\n",
    "    plt.fill_between(x,y,50, color = \"lightblue\")\n",
    "    plt.fill_between(x,y, color = \"orange\")\n",
    "    plt.scatter(np.array(features_of_3)[:,0], np.array(features_of_3)[:,1], color = \"red\", label = \"3\", s = 5)\n",
    "    plt.scatter(mean_of_3[0], mean_of_3[1], color = \"darkred\", label = \"mean of 3\")\n",
    "    plt.scatter(np.array(features_of_9)[:,0], np.array(features_of_9)[:,1], color = \"blue\", label = \"9\", s = 5)\n",
    "    plt.scatter(mean_of_9[0], mean_of_9[1], color = \"darkblue\", label = \"mean of 9\")\n",
    "    plt.title(\"training features\")\n",
    "    plt.xlabel(\"feature of 3\")\n",
    "    plt.ylabel(\"feature of 9\")\n",
    "    plt.legend()\n",
    "    \n",
    "    test_features_of_3 = []\n",
    "    test_features_of_9 = []\n",
    "    \n",
    "    for i in range(len(y_test)):\n",
    "        if(y_test[i] == 3):\n",
    "            test_features_of_3.append(test_features[i])\n",
    "        if(y_test[i] == 9):\n",
    "            test_features_of_9.append(test_features[i])\n",
    "    \n",
    "    plt.subplot(122)\n",
    "    plt.plot(x, y)\n",
    "    plt.fill_between(x,y,50, color = \"lightblue\")\n",
    "    plt.fill_between(x,y, color = \"orange\")\n",
    "    plt.scatter(mean_of_3[0], mean_of_3[1], color = \"darkred\", label = \"mean of 3\")\n",
    "    plt.scatter(mean_of_9[0], mean_of_9[1], color = \"darkblue\", label = \"mean of 9\")\n",
    "    plt.scatter(np.array(test_features_of_3)[:,0], np.array(test_features_of_3)[:,1], color = \"red\", label = \"3\", s = 5)\n",
    "    plt.scatter(np.array(test_features_of_9)[:,0], np.array(test_features_of_9)[:,1], color = \"blue\", label = \"9\", s = 5)\n",
    "    plt.title(\"test features\")\n",
    "    plt.xlabel(\"feature of 3\")\n",
    "    plt.ylabel(\"feature of 9\")\n",
    "    plt.legend()\n",
    "    plt.show()\n",
    "\n",
    "    #preparation\n",
    "from sklearn.datasets import load_digits\n",
    "import numpy as np\n",
    "import matplotlib.pyplot as plt\n",
    "from sklearn import model_selection\n",
    "\n",
    "digits = load_digits()\n",
    "data = digits[\"data\"]\n",
    "images = digits[\"images\"]\n",
    "target = digits[\"target\"]\n",
    "target_names = digits[\"target_names\"]\n",
    "\n",
    "indeces = [i for i, x in enumerate(target) if x == 3 or x == 9]\n",
    "filtered_data = data[indeces]\n",
    "filtered_images = images[indeces]\n",
    "filtered_target = target[indeces]\n",
    "\n",
    "X_train, X_test, y_train, y_test = model_selection.train_test_split(filtered_data, filtered_target, test_size = 0.4, random_state = 0)\n",
    "\n",
    "do_all()"
   ]
  },
  {
   "cell_type": "markdown",
   "metadata": {},
   "source": [
    "# 3 LDA"
   ]
  },
  {
   "cell_type": "markdown",
   "metadata": {},
   "source": [
    "### 3.1 Implement LDA training"
   ]
  },
  {
   "cell_type": "code",
   "execution_count": 10,
   "metadata": {},
   "outputs": [],
   "source": [
    "def fit_lda(training_features, training_labels):\n",
    "    unique_labels = np.unique(training_labels)\n",
    "    num_classes = len(unique_labels)\n",
    "    num_features = training_features.shape[1]\n",
    "    \n",
    "    mu = np.zeros((num_classes, num_features))\n",
    "    covmat = np.zeros((num_features, num_features))\n",
    "    p = np.zeros(num_classes)\n",
    "    \n",
    "    for i, label in enumerate(unique_labels):\n",
    "        # get all instances with the current label\n",
    "        label_indices = np.where(training_labels == label)[0]\n",
    "        num_instances = len(label_indices)\n",
    "        p[i] = num_instances / len(training_labels)\n",
    "        \n",
    "        # compute class mean\n",
    "        mu[i] = np.mean(training_features[label_indices], axis=0)\n",
    "        \n",
    "        # compute class covariance matrix\n",
    "        covmat += np.cov(training_features[label_indices].T) * (num_instances - 1)\n",
    "        \n",
    "    # divide by the total number of instances to get the covariance matrix\n",
    "    covmat /= len(training_labels)\n",
    "    \n",
    "    return mu, covmat, p"
   ]
  },
  {
   "cell_type": "code",
   "execution_count": 11,
   "metadata": {},
   "outputs": [
    {
     "name": "stdout",
     "output_type": "stream",
     "text": [
      "[[ 1.45045045  3.5045045 ]\n",
      " [ 9.99056604 12.38679245]]\n",
      "[[16.25100481  3.42470768]\n",
      " [ 3.42470768 17.84741593]]\n",
      "[0.51152074 0.48847926]\n"
     ]
    }
   ],
   "source": [
    "y_train_new = np.where(y_train == 3, -1, 1) # Convert 3's to -1's and 9's to 1's\n",
    "y_test_new = np.where(y_test == 3, -1, 1) # Convert 3's to -1's and 9's to 1's\n",
    "\n",
    "# Apply fit function to feature data from task 2\n",
    "mu_2d, covmat_2d, p_2d = fit_lda(X_train_2d, y_train_new)\n",
    "print(mu_2d)\n",
    "print(covmat_2d)\n",
    "print(p_2d)"
   ]
  },
  {
   "cell_type": "code",
   "execution_count": 12,
   "metadata": {},
   "outputs": [
    {
     "name": "stdout",
     "output_type": "stream",
     "text": [
      "(2, 64)\n",
      "(64, 64)\n",
      "[0.51152074 0.48847926]\n"
     ]
    }
   ],
   "source": [
    "# Apply fit function to full vector of 64 pixels\n",
    "mu_full, covmat_full, p_full = fit_lda(X_train, y_train_new)\n",
    "print(mu_full.shape)\n",
    "print(covmat_full.shape)\n",
    "print(p_full)"
   ]
  },
  {
   "cell_type": "code",
   "execution_count": 13,
   "metadata": {},
   "outputs": [],
   "source": [
    "# filter out pixels that have a variance smaller than 0.001\n",
    "variances = np.var(X_train, axis=0)\n",
    "mask = variances >= 0.001\n",
    "X_train_masked = X_train[:, mask]\n",
    "X_test_masked = X_test[:,mask]\n",
    "\n",
    "# Apply fit function to filterted vector\n",
    "mu_masked, covmat_masked, p_masked = fit_lda(X_train_masked, y_train)"
   ]
  },
  {
   "cell_type": "markdown",
   "metadata": {},
   "source": [
    "### 3.2 Implement LDA prediction"
   ]
  },
  {
   "cell_type": "markdown",
   "metadata": {},
   "source": [
    "<div style=\"color: green; font-weight:\n",
    "bold\"> The implementation of the prediction equivalent to the sample solution.</div>"
   ]
  },
  {
   "cell_type": "code",
   "execution_count": 14,
   "metadata": {},
   "outputs": [],
   "source": [
    "import numpy as np\n",
    "\n",
    "def predict_lda(mu, covmat, p, test_features):\n",
    "\n",
    "    covmat_inv = np.linalg.inv(covmat)\n",
    "    beta = beta = np.dot(covmat_inv,(mu[1] - mu[0]).T)\n",
    "    b = -0.5 * np.dot((mu[1] + mu[0]),beta) + np.log(p[0] / p[1])\n",
    "    \n",
    "    # calculate the discriminant function for each test instance\n",
    "    discriminant = np.dot(test_features, beta) + b\n",
    "    \n",
    "    # assign the predicted label based on the maximum discriminant value\n",
    "    predicted_labels = np.sign(discriminant)\n",
    "    \n",
    "    return predicted_labels"
   ]
  },
  {
   "cell_type": "code",
   "execution_count": 15,
   "metadata": {},
   "outputs": [
    {
     "name": "stdout",
     "output_type": "stream",
     "text": [
      "Training error rate: 0.004608294930875576\n",
      "Test error rate: 0.0136986301369863\n"
     ]
    }
   ],
   "source": [
    "# call predict_lda() on the training and test data to obtain the predicted labels\n",
    "train_predicted_labels = predict_lda(mu_masked, covmat_masked, p_masked, X_train_masked)\n",
    "test_predicted_labels = predict_lda(mu_masked, covmat_masked, p_masked, X_test_masked)\n",
    "\n",
    "# calculate the training and test error rates\n",
    "train_error_rate = np.mean(train_predicted_labels != y_train_new)\n",
    "test_error_rate = np.mean(test_predicted_labels != y_test_new)\n",
    "\n",
    "print(\"Training error rate:\", train_error_rate)\n",
    "print(\"Test error rate:\", test_error_rate)"
   ]
  },
  {
   "cell_type": "markdown",
   "metadata": {},
   "source": [
    "### 3.3 Visualization"
   ]
  },
  {
   "cell_type": "markdown",
   "metadata": {},
   "source": [
    "<div style=\"color: green; font-weight: bold\"> Here the ellipses main axes are missing. Furthermore, the implementation of the ellipses while correct is unnecessarily slow as the eigenvectors and eigenvalues are enough to compute them in a vectorized manner.\n",
    "<br> \n",
    "The eigenvectors are the main axes of the ellipses with the square root of the eigenvalues being proportional to the ellipsis size in each dimension. We used the Ellipses class inside the matplotlib.pyplot.patches package. As part of the documentation there is an example shown which is quite close to this task.\n",
    "<br>    \n",
    "The ellipsis angle is the arctan of the eigenvector's y value divided by its x value which is associated with the largest eigenvalue.</div>"
   ]
  },
  {
   "cell_type": "code",
   "execution_count": 16,
   "metadata": {},
   "outputs": [
    {
     "data": {
      "text/plain": [
       "(217, 2)"
      ]
     },
     "execution_count": 16,
     "metadata": {},
     "output_type": "execute_result"
    }
   ],
   "source": [
    "X_train_2d.shape"
   ]
  },
  {
   "cell_type": "code",
   "execution_count": 17,
   "metadata": {},
   "outputs": [
    {
     "data": {
      "image/png": "[encoded data removed]",
      "text/plain": [
       "<Figure size 432x288 with 1 Axes>"
      ]
     },
     "metadata": {
      "needs_background": "light"
     },
     "output_type": "display_data"
    },
    {
     "name": "stdout",
     "output_type": "stream",
     "text": [
      "[13.53271285 20.56570789]\n",
      "[[-0.78325883 -0.62169574]\n",
      " [ 0.62169574 -0.78325883]]\n"
     ]
    }
   ],
   "source": [
    "#with the feature function from 1.2\n",
    "training_labels = y_train_new\n",
    "mu, covmat, p = fit_lda(X_train_2d, training_labels)\n",
    "\n",
    "predicted_train_labels = predict_lda(mu, covmat, p, X_train_2d)\n",
    "predicted_test_labels = predict_lda(mu, covmat, p, X_train_2d)\n",
    "\n",
    "beta = np.dot(np.linalg.inv(covmat), (mu[1] - mu[0]).T) \n",
    "b = -0.5 * (mu[1] + mu[0]).dot(beta) + np.log(p[0] / p[1])\n",
    "\n",
    "training_features = np.array(X_train_2d)\n",
    "x = np.linspace(min(training_features[:,0]), max(training_features[:,0]), 400)\n",
    "y = np.linspace(min(training_features[:,1]), max(training_features[:,1]), 400)\n",
    "\n",
    "def contour(x, y, mu):\n",
    "    return 1 / np.sqrt(2*np.pi*np.linalg.det(covmat)) * np.exp(-0.5 * (np.array([x - mu[0], y - mu[1]]).dot(np.linalg.inv(covmat)).dot(np.array([x - mu[0], y - mu[1]]))))\n",
    "\n",
    "z_contour_3 = np.array([np.zeros(len(x)) for i in range(len(y))])\n",
    "z_contour_9 = np.array([np.zeros(len(x)) for i in range(len(y))])\n",
    "\n",
    "for i in range(len(x)):\n",
    "    for j in range(len(y)):\n",
    "        z_contour_3[i][j] = contour(x[i], y[j], mu[0])\n",
    "        z_contour_9[i][j] = contour(x[i], y[j], mu[1])\n",
    "\n",
    "plt.contour(x, y, z_contour_3)\n",
    "plt.contour(x, y, z_contour_9)\n",
    "\n",
    "x, y = np.meshgrid(x, y)\n",
    "z = np.sign(x * beta[0] + y * beta[1] + b)\n",
    "plt.pcolormesh(x, y, z)\n",
    "plt.scatter(training_features[y_train == 3, 0], training_features[y_train == 3, 1], color = \"red\", label = \"3\", s = 5)\n",
    "plt.scatter(training_features[y_train == 9, 0], training_features[y_train == 9, 1], color = \"blue\", label = \"9\", s = 5)\n",
    "plt.title(\"training features\")\n",
    "plt.xlabel(\"feature of 3\")\n",
    "plt.ylabel(\"feature of 9\")\n",
    "plt.legend()\n",
    "plt.show()\n",
    "\n",
    "eigenvalues, eigenvectors = np.linalg.eig(covmat)\n",
    "print(eigenvalues)\n",
    "print(eigenvectors)"
   ]
  },
  {
   "cell_type": "code",
   "execution_count": 18,
   "metadata": {},
   "outputs": [
    {
     "name": "stdout",
     "output_type": "stream",
     "text": [
      "Training error rate: 0.004608294930875576\n",
      "Test error rate: 0.0136986301369863\n"
     ]
    }
   ],
   "source": [
    "#with all pixels except dead pixels as features\n",
    "\n",
    "mu, covmat, p = fit_lda(X_train_masked, training_labels)\n",
    "test_predicted_labels = predict_lda(mu, covmat, p, X_test_masked)\n",
    "train_predicted_labels = predict_lda(mu, covmat, p, X_train_masked)\n",
    "\n",
    "# calculate the training and test error rates\n",
    "train_error_rate = np.mean(train_predicted_labels != y_train_new)\n",
    "test_error_rate = np.mean(test_predicted_labels != y_test_new)\n",
    "\n",
    "print(\"Training error rate:\", train_error_rate)\n",
    "print(\"Test error rate:\", test_error_rate)"
   ]
  },
  {
   "cell_type": "markdown",
   "metadata": {},
   "source": [
    "<div style=\"color: green; font-weight:\n",
    "bold\"> The subtask containing the quantitative analysis is missing.</div>"
   ]
  },
  {
   "cell_type": "markdown",
   "metadata": {},
   "source": [
    "# 4"
   ]
  },
  {
   "cell_type": "markdown",
   "metadata": {},
   "source": [
    "<div style=\"color: green; font-weight:\n",
    "bold\">The function fit_svm is not implemennted correctly as it is missing the claclucation of the gradients, the adaptation of the learning rate, and the computation of the loss. It seems to me like the wrong formula was being used here. Apart from that the initialization of the variables is equal to the sample solution with zeroes being initialized as weights instead of random values.\n",
    "    <br>\n",
    "    \n",
    "The Predict function on the other hand is essentialy the same as in the sample solution</div>"
   ]
  },
  {
   "cell_type": "code",
   "execution_count": 19,
   "metadata": {},
   "outputs": [],
   "source": [
    "import numpy as np\n",
    "\n",
    "def fit_svm(training_features, training_labels, learning_rate=0.001, lambda_param=0.1, n_iters=500):\n",
    "    '''Parameters\n",
    "    -------------------\n",
    "    training_features : numpy.ndarray, contains the training data. Each row is a sample, each column a feature\n",
    "    training_labels : numpy.ndarray, contains the class-label of the training data.\n",
    "    learning_rate : float, for the gradient decent (def 0.001)\n",
    "    lambda_param : float, for the cost function for determining the weight vector.\n",
    "    Greater lambda leads to higher margin of the hyperplane and vice versa. (def 0.1)\n",
    "    n_iters : int, number of iterations (def 500)\n",
    "    -------------------\n",
    "    Return\n",
    "    -------------------\n",
    "    Returns w and b, the weight vector and the bias respectively.\n",
    "    -------------------\n",
    "    Trains the SVM by finding the optimal values for w and b using gradient decent.\n",
    "    '''\n",
    "\n",
    "    label_ = np.where(training_labels <= 0, -1, 1)  # we want the classes to be labeled either 1 or -1\n",
    "    n_sample, n_features = training_features.shape  # No. of rows = sample size, No. of columns = feature size\n",
    "\n",
    "    w = np.zeros(n_features)\n",
    "    b = 0\n",
    "\n",
    "    for _ in range(n_iters):\n",
    "        for idx, x_i in enumerate(training_features):\n",
    "            condition = label_[idx] * (np.dot(x_i, w) - b) >= 1  # the derivative of the cost function\n",
    "            # depends on this condition\n",
    "            if condition:\n",
    "                w -= learning_rate * (2 * lambda_param * w)\n",
    "            else:\n",
    "                w -= learning_rate * (2 * lambda_param * w - np.dot(x_i, label_[idx]))\n",
    "                b -= learning_rate * label_[idx]\n",
    "\n",
    "    return w, b\n",
    "\n",
    "def predict_svm(X, w, b):\n",
    "    '''Parameters\n",
    "    -------------------\n",
    "    X : numpy.ndarray, contains the data of the samples for the prediction.\n",
    "    Each row is a sample, each column a feature.\n",
    "    w : numpy.ndarray, the weight vector.\n",
    "    b : float, the bias.\n",
    "    -------------------\n",
    "    Return\n",
    "    -------------------\n",
    "    Returns a numpy.ndarray containing the labels from the prediction.\n",
    "    '''\n",
    "    linear_output = np.dot(X, w) - b\n",
    "    return np.sign(linear_output)\n"
   ]
  },
  {
   "cell_type": "markdown",
   "metadata": {},
   "source": [
    "<div style=\"color: green; font-weight:\n",
    "bold\">\n",
    "The data points were plotted essentially the same way as in the sample solution. The decision plane however was calculated explicitly here as opposed to \n",
    "using the matplotlib functions to do so. Presumably the matplotlib function is the more efficent way to do this. The resulting decision plane however looks resonably well, although the plane could be better itself. This however is most certanly dependent on the differnece in the fit_svm function\n",
    "    \n",
    "<br>\n",
    "\n",
    "\n",
    "</div>"
   ]
  },
  {
   "cell_type": "code",
   "execution_count": 20,
   "metadata": {},
   "outputs": [
    {
     "name": "stdout",
     "output_type": "stream",
     "text": [
      "[0.14198191 0.07035027] 1.0475999999983956\n"
     ]
    },
    {
     "data": {
      "image/png": "[encoded data removed]",
      "text/plain": [
       "<Figure size 432x288 with 1 Axes>"
      ]
     },
     "metadata": {
      "needs_background": "light"
     },
     "output_type": "display_data"
    }
   ],
   "source": [
    "def get_hyperplane_value(x, w, b, offset):   # auxiliary function for visualizing the results\n",
    "    return (-w[0] * x + b + offset) / w[1]\n",
    "\n",
    "w, b = fit_svm(X_train_2d, y_train_new, learning_rate=0.00001, lambda_param=0.01, n_iters=1500)\n",
    "print(w,b)\n",
    "\n",
    "fig = plt.figure()\n",
    "aux = fig.add_subplot(1, 1, 1)\n",
    "plt.scatter(X_train_2d[y_train == 3, 0], X_train_2d[y_train == 3, 1], c='b', marker='o', label='Digit 3', s=25)\n",
    "plt.scatter(X_train_2d[y_train == 9, 0], X_train_2d[y_train == 9, 1], c='r', marker='x', label='Digit 9', s=25)\n",
    "plt.xlabel('Pixel 26')\n",
    "plt.ylabel('Pixel 18')\n",
    "#plt.scatter(X_train_2d[:, 0], X_train_2d[:, 1], c=y_train_new, s=25)\n",
    "plt.title('SVM')\n",
    "\n",
    "x0_1 = np.amin(X_train_2d[:, 0])\n",
    "x0_2 = np.amax(X_train_2d[:, 0])\n",
    "\n",
    "x1_1 = get_hyperplane_value(x0_1, w, b, 0)\n",
    "x1_2 = get_hyperplane_value(x0_2, w, b, 0)\n",
    "\n",
    "x1_1_a = get_hyperplane_value(x0_1, w, b, -1)\n",
    "x1_2_a = get_hyperplane_value(x0_2, w, b, -1)\n",
    "\n",
    "x1_1_b = get_hyperplane_value(x0_1, w, b, 1)\n",
    "x1_2_b = get_hyperplane_value(x0_2, w, b, 1)\n",
    "\n",
    "aux.plot([x0_1, x0_2], [x1_1, x1_2], 'y--')\n",
    "aux.plot([x0_1, x0_2], [x1_1_a, x1_2_a], 'k')\n",
    "aux.plot([x0_1, x0_2], [x1_1_b, x1_2_b], 'k')\n",
    "\n",
    "x1_min = np.amin(X_train_2d[:, 1])\n",
    "x1_max = np.amax(X_train_2d[:, 1])\n",
    "aux.set_ylim([x1_min - 3, x1_max + 3])\n",
    "aux.set_xlim([x0_1 - 3, x0_2 + 3])\n",
    "\n",
    "plt.show()"
   ]
  },
  {
   "cell_type": "markdown",
   "metadata": {},
   "source": [
    "Since it is not possible to see how many blue dots and red x are in one spot its is hard to judge the hyperplane. however it is minimizing the red x to be on the \"blue dots\" side of the hyperplane."
   ]
  },
  {
   "cell_type": "markdown",
   "metadata": {},
   "source": [
    "<div style=\"color: green; font-weight:\n",
    "bold\">\n",
    "Here the hyperplane was claculated again for the scikit learn svm, which hasn't been done in the sample solution and is a nice addition for comparing the performance.\n",
    "\n",
    "<br>\n",
    "\n",
    "\n",
    "</div>"
   ]
  },
  {
   "cell_type": "code",
   "execution_count": 21,
   "metadata": {},
   "outputs": [
    {
     "data": {
      "image/png": "[encoded data removed]",
      "text/plain": [
       "<Figure size 432x288 with 1 Axes>"
      ]
     },
     "metadata": {
      "needs_background": "light"
     },
     "output_type": "display_data"
    }
   ],
   "source": [
    "from sklearn.svm import SVC\n",
    "\n",
    "# train an SVM on the training data\n",
    "svm = SVC(kernel='linear', C=1)\n",
    "svm.fit(X_train_2d, y_train_new)\n",
    "\n",
    "# extract the hyperplane parameters\n",
    "w = svm.coef_[0]\n",
    "b = svm.intercept_[0]\n",
    "\n",
    "fig = plt.figure()\n",
    "aux = fig.add_subplot(1, 1, 1)\n",
    "plt.scatter(X_train_2d[y_train == 3, 0], X_train_2d[y_train == 3, 1], c='b', marker='o', label='Digit 3', s=25)\n",
    "plt.scatter(X_train_2d[y_train == 9, 0], X_train_2d[y_train == 9, 1], c='r', marker='x', label='Digit 9', s=25)\n",
    "plt.xlabel('Pixel 26')\n",
    "plt.ylabel('Pixel 18')\n",
    "#plt.scatter(X_train_2d[:, 0], X_train_2d[:, 1], c=y_train_new, s=25)\n",
    "plt.title('SVM')\n",
    "\n",
    "x0_1 = np.amin(X_train_2d[:, 0])\n",
    "x0_2 = np.amax(X_train_2d[:, 0])\n",
    "\n",
    "x1_1 = get_hyperplane_value(x0_1, w, b, 0)\n",
    "x1_2 = get_hyperplane_value(x0_2, w, b, 0)\n",
    "\n",
    "x1_1_a = get_hyperplane_value(x0_1, w, b, -1)\n",
    "x1_2_a = get_hyperplane_value(x0_2, w, b, -1)\n",
    "\n",
    "x1_1_b = get_hyperplane_value(x0_1, w, b, 1)\n",
    "x1_2_b = get_hyperplane_value(x0_2, w, b, 1)\n",
    "\n",
    "aux.plot([x0_1, x0_2], [x1_1, x1_2], 'y--')\n",
    "aux.plot([x0_1, x0_2], [x1_1_a, x1_2_a], 'k')\n",
    "aux.plot([x0_1, x0_2], [x1_1_b, x1_2_b], 'k')\n",
    "\n",
    "x1_min = np.amin(X_train_2d[:, 1])\n",
    "x1_max = np.amax(X_train_2d[:, 1])\n",
    "aux.set_ylim([x1_min - 3, x1_max + 3])\n",
    "aux.set_xlim([x0_1 - 3, x0_2 + 3])\n",
    "\n",
    "plt.show()"
   ]
  },
  {
   "cell_type": "markdown",
   "metadata": {},
   "source": [
    "The sklearn classifier does not seem to find a good hyperplane. However it is not finetuned and we can not see how many dots or x are in one spot."
   ]
  },
  {
   "cell_type": "markdown",
   "metadata": {},
   "source": [
    "<div style=\"color: green; font-weight:\n",
    "bold\">\n",
    "Down below is testing of the functions providd above and not part of the actual tasks, hence cannot be compared, but it is good to have it as \"proof\" that the functions are working as expected\n",
    "</div>"
   ]
  },
  {
   "cell_type": "code",
   "execution_count": 22,
   "metadata": {},
   "outputs": [
    {
     "data": {
      "image/png": "[encoded data removed]",
      "text/plain": [
       "<Figure size 432x288 with 1 Axes>"
      ]
     },
     "metadata": {
      "needs_background": "light"
     },
     "output_type": "display_data"
    }
   ],
   "source": [
    "from sklearn.datasets import make_blobs\n",
    "\n",
    "\n",
    "X, labels = make_blobs(n_features=2, centers=2, cluster_std=1.25, random_state=234)\n",
    "labels = np.where(labels == 0, -1, 1)\n",
    "\n",
    "w, b = fit_svm(X, labels)\n",
    "\n",
    "fig = plt.figure()\n",
    "aux = fig.add_subplot(1, 1, 1)\n",
    "\n",
    "plt.scatter(X[labels == -1, 0], X[labels == -1, 1], c='b', marker='o', label='Blob A', s=25)\n",
    "plt.scatter(X[labels == 1, 0], X[labels == 1, 1], c='r', marker='x', label='Blob B', s=25)\n",
    "plt.title('Two blobs')\n",
    "\n",
    "x0_1 = np.amin(X[:, 0])\n",
    "x0_2 = np.amax(X[:, 0])\n",
    "\n",
    "x1_1 = get_hyperplane_value(x0_1, w, b, 0)\n",
    "x1_2 = get_hyperplane_value(x0_2, w, b, 0)\n",
    "\n",
    "x1_1_a = get_hyperplane_value(x0_1, w, b, -1)\n",
    "x1_2_a = get_hyperplane_value(x0_2, w, b, -1)\n",
    "\n",
    "x1_1_b = get_hyperplane_value(x0_1, w, b, 1)\n",
    "x1_2_b = get_hyperplane_value(x0_2, w, b, 1)\n",
    "\n",
    "aux.plot([x0_1, x0_2], [x1_1, x1_2], 'y--')\n",
    "aux.plot([x0_1, x0_2], [x1_1_a, x1_2_a], 'k')\n",
    "aux.plot([x0_1, x0_2], [x1_1_b, x1_2_b], 'k')\n",
    "\n",
    "x1_min = np.amin(X[:, 1])\n",
    "x1_max = np.amax(X[:, 1])\n",
    "aux.set_ylim([x1_min - 3, x1_max + 3])\n",
    "\n",
    "plt.show()\n"
   ]
  },
  {
   "cell_type": "markdown",
   "metadata": {},
   "source": [
    "I was curious as to whether my code actually works, which is why I decided to test it on this simple example and it seems to plot and work correctly."
   ]
  },
  {
   "cell_type": "markdown",
   "metadata": {},
   "source": [
    "<div style=\"color: green; font-weight:\n",
    "bold\">\n",
    "Some subtasks are missing in this soltuion:\n",
    "    <br>\n",
    "    - Finding an optimal lambda value\n",
    "    <br>\n",
    "    - Using only the two features and then all features for the selfmade classifier\n",
    "    <br>\n",
    "    - Loss comparison and depiction for the models\n",
    "</div>"
   ]
  },
  {
   "cell_type": "code",
   "execution_count": null,
   "metadata": {},
   "outputs": [],
   "source": []
  }
 ],
 "metadata": {
  "kernelspec": {
   "display_name": "Python 3 (ipykernel)",
   "language": "python",
   "name": "python3"
  },
  "language_info": {
   "codemirror_mode": {
    "name": "ipython",
    "version": 3
   },
   "file_extension": ".py",
   "mimetype": "text/x-python",
   "name": "python",
   "nbconvert_exporter": "python",
   "pygments_lexer": "ipython3",
   "version": "3.10.7"
  },
  "vscode": {
   "interpreter": {
    "hash": "7eab9717bdb5e84bc7833bb0ad8ecfaa818aea541c2081d9e5269c840a131741"
   }
  }
 },
 "nbformat": 4,
 "nbformat_minor": 2
}
