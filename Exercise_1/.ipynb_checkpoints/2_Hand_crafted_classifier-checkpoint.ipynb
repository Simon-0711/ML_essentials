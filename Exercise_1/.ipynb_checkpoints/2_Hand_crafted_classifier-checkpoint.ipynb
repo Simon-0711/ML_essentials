{
 "cells": [
  {
   "cell_type": "code",
   "execution_count": null,
   "id": "f6d45df8-371f-44d8-bfd6-d3f30ee147eb",
   "metadata": {},
   "outputs": [],
   "source": []
  }
 ],
 "metadata": {
  "kernelspec": {
   "display_name": "Python [conda env:ml_homework]",
   "language": "python",
   "name": "conda-env-ml_homework-py"
  },
  "language_info": {
   "codemirror_mode": {
    "name": "ipython",
    "version": 3
   },
   "file_extension": ".py",
   "mimetype": "text/x-python",
   "name": "python",
   "nbconvert_exporter": "python",
   "pygments_lexer": "ipython3",
   "version": "3.11.3"
  }
 },
 "nbformat": 4,
 "nbformat_minor": 5
}
