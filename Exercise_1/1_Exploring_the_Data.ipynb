{
 "cells": [
  {
   "cell_type": "code",
   "execution_count": 266,
   "id": "16cc4c0d-939b-4691-b713-ccb29e0bab60",
   "metadata": {},
   "outputs": [],
   "source": [
    "from sklearn import model_selection\n",
    "from sklearn.datasets import load_digits\n",
    "import numpy as np\n",
    "import matplotlib.pyplot as plt\n",
    "from scipy.stats import multivariate_normal\n",
    "from sklearn.model_selection import cross_val_score"
   ]
  },
  {
   "cell_type": "code",
   "execution_count": 267,
   "id": "93185af6-d0f5-4323-8733-8d5d03335b04",
   "metadata": {},
   "outputs": [
    {
     "name": "stdout",
     "output_type": "stream",
     "text": [
      "dict_keys(['data', 'target', 'frame', 'feature_names', 'target_names', 'images', 'DESCR'])\n"
     ]
    }
   ],
   "source": [
    "digits = load_digits()\n",
    "print (digits.keys())"
   ]
  },
  {
   "cell_type": "code",
   "execution_count": 268,
   "id": "8fe444f9-f539-4160-8870-396b4ea8acc1",
   "metadata": {},
   "outputs": [],
   "source": [
    "data = digits [\"data\"]\n",
    "images = digits [\"images\"]\n",
    "target = digits [\"target\"]\n",
    "target_names = digits [\"target_names\"]"
   ]
  },
  {
   "cell_type": "code",
   "execution_count": 269,
   "id": "2fe0bca4",
   "metadata": {},
   "outputs": [],
   "source": [
    "idx = (target == 3) | (target == 9)"
   ]
  },
  {
   "cell_type": "code",
   "execution_count": 270,
   "id": "fc72c189",
   "metadata": {},
   "outputs": [],
   "source": [
    "data_cleaned = data[idx]\n",
    "target_cleaned = target[idx]"
   ]
  },
  {
   "cell_type": "code",
   "execution_count": 271,
   "id": "61935785",
   "metadata": {},
   "outputs": [],
   "source": [
    "# select only 2 features (further covered in ex. 2)\n",
    "#data_cleaned=data_cleaned[:,5:7]"
   ]
  },
  {
   "cell_type": "code",
   "execution_count": 272,
   "id": "013afa49",
   "metadata": {},
   "outputs": [],
   "source": [
    "X_all = data_cleaned\n",
    "y_all = target_cleaned\n",
    "X_train , X_test , y_train , y_test = model_selection.train_test_split( \n",
    "    X_all , y_all , test_size = 0.4 , random_state = 0\n",
    ")\n"
   ]
  },
  {
   "cell_type": "markdown",
   "id": "5aaa6e62",
   "metadata": {},
   "source": [
    "## Exercise 4 SVM"
   ]
  },
  {
   "cell_type": "code",
   "execution_count": 301,
   "id": "43e827ff",
   "metadata": {},
   "outputs": [],
   "source": [
    "from sklearn.base import BaseEstimator, ClassifierMixin\n",
    "\n",
    "# define class to later on use the sckit learn cross-validation\n",
    "class SVMClassifier(BaseEstimator, ClassifierMixin):\n",
    "    def __init__(self, lmbda=0.01, learning_rate=0.001, num_iters=1000):\n",
    "        self.lmbda = lmbda\n",
    "        self.learning_rate = learning_rate\n",
    "        self.num_iters = num_iters\n",
    "\n",
    "    def fit(self, X, y):\n",
    "        self.mu, self.covmat, self.beta, self.b = fit_svm(X, y)\n",
    "        return self\n",
    "\n",
    "    def predict(self, X):\n",
    "        return predict_svm(X, self.beta, self.b)\n",
    "\n",
    "    \n",
    "    def accuracy(self, X, y):\n",
    "        return svm_accuracy(self.predict(X,y), y)\n",
    "        \n",
    "\n",
    "\n",
    "def fit_svm(training_features, training_labels):\n",
    "    training_labels[training_labels == 3] = -1\n",
    "    training_labels[training_labels == 9] = 1    \n",
    "    num_iters=1000\n",
    "    \n",
    "    # Initialize the parameters\n",
    "    num_samples, num_features = training_features.shape\n",
    "    beta = np.random.normal(size=(num_features))\n",
    "    b = 0\n",
    "    \n",
    "    learning_rate=0.001\n",
    "    lmbda = 0.01\n",
    "    N = num_samples\n",
    "\n",
    "    # Gradient descent to optimize the parameters\n",
    "    for i in range(num_iters):\n",
    "        \n",
    "        # Compute the hinge loss\n",
    "        scores = training_labels * np.dot(training_features, beta) + b\n",
    "        relu = np.maximum(0, 1 - scores)\n",
    "        loss = 0.5 * np.dot(beta.T, beta) + (lmbda/N) * np.sum(relu)\n",
    "\n",
    "        # Compute the gradients       \n",
    "        sum_constraint = (scores < 1)\n",
    "        d_beta = beta + (lmbda/N) * np.sum(-training_labels*training_features.T, where=sum_constraint)      \n",
    "        d_b = (lmbda/N) * np.sum(-training_labels,where=sum_constraint)\n",
    "\n",
    "        # Update the parameters\n",
    "        beta = beta - learning_rate * d_beta\n",
    "        b = b - learning_rate * d_b\n",
    "    mu = np.mean(training_features, axis=0)\n",
    "    covmat = np.cov(training_features.T)\n",
    "\n",
    "    return mu, covmat, beta, b\n",
    "    \n",
    "    \n",
    "def predict_svm(test_features, beta, b):\n",
    "    scores = np.dot(test_features, beta) + b\n",
    "    preds = np.where(scores >= 0, 1, -1)\n",
    "    return preds    \n",
    "    \n",
    "def visualize_svm(mu, covmat, X_train, y_train):\n",
    "    # todo, could not finish\n",
    "\n",
    "def cross_validate(X_train, y_train):\n",
    "    return cross_val_score(estimator=fit_svm, X=X_train, y=y_train, cv=10, scoring=svm_accuracy)\n",
    "\n",
    "    \n",
    "def svm_accuracy(prediction, truth):\n",
    "    return np.mean(prediction == truth)\n",
    "    "
   ]
  },
  {
   "cell_type": "code",
   "execution_count": 302,
   "id": "7828dda9",
   "metadata": {},
   "outputs": [],
   "source": [
    "mu, covmat, beta, b = fit_svm(X_train,y_train)\n",
    "predictions = predict_svm(X_test, beta, b)"
   ]
  },
  {
   "cell_type": "code",
   "execution_count": 303,
   "id": "69529305",
   "metadata": {
    "scrolled": false
   },
   "outputs": [],
   "source": [
    "# visualize_svm(mu, covmat, X_train, y_train)"
   ]
  },
  {
   "cell_type": "code",
   "execution_count": 304,
   "id": "95bd0e4d",
   "metadata": {},
   "outputs": [],
   "source": [
    "model = SVMClassifier()\n",
    "scores = cross_val_score(model, X_train, y_train, cv=10, scoring=\"accuracy\")"
   ]
  },
  {
   "cell_type": "code",
   "execution_count": 305,
   "id": "4083c1ee",
   "metadata": {},
   "outputs": [
    {
     "name": "stdout",
     "output_type": "stream",
     "text": [
      "Accuracy: 0.53 (+/- 0.17)\n"
     ]
    }
   ],
   "source": [
    "print('Accuracy: {:.2f} (+/- {:.2f})'.format(scores.mean(), scores.std()))"
   ]
  }
 ],
 "metadata": {
  "kernelspec": {
   "display_name": "Python 3 (ipykernel)",
   "language": "python",
   "name": "python3"
  },
  "language_info": {
   "codemirror_mode": {
    "name": "ipython",
    "version": 3
   },
   "file_extension": ".py",
   "mimetype": "text/x-python",
   "name": "python",
   "nbconvert_exporter": "python",
   "pygments_lexer": "ipython3",
   "version": "3.11.3"
  }
 },
 "nbformat": 4,
 "nbformat_minor": 5
}
