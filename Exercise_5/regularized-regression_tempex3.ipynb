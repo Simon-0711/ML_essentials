{
 "cells": [
  {
   "attachments": {},
   "cell_type": "markdown",
   "metadata": {},
   "source": [
    "# 3 Automatic feature selection for LDA as regression"
   ]
  },
  {
   "attachments": {},
   "cell_type": "markdown",
   "metadata": {},
   "source": [
    "## 3.1 Implement Orthogonal Matching Pursuit (8 points)"
   ]
  },
  {
   "cell_type": "code",
   "execution_count": 125,
   "metadata": {},
   "outputs": [],
   "source": [
    "import copy\n",
    "import numpy as np\n",
    "from scipy.linalg import lstsq"
   ]
  },
  {
   "cell_type": "code",
   "execution_count": 126,
   "metadata": {},
   "outputs": [],
   "source": [
    "def omp_regression(X, y, T):\n",
    "    \"\"\"Orthogonal Matching Pursuit is a simple greedy sparse regression algorithm. It approximates\n",
    "    the exact algorithms for least squares under L0 or L1 regularization\n",
    "\n",
    "    :param X: Input Matrix of shape R^NxD\n",
    "    :param y: Output Vector of shape R^N\n",
    "    :param T: The desired number of non zero elements in the final solution \n",
    "    \"\"\"\n",
    "\n",
    "    assert T > 0, \"Number of non zero Elements is smaller than 0\"\n",
    "\n",
    "    N = X.shape[0]\n",
    "    D = X.shape[1]\n",
    "    assert N == y.shape[0], \"Dimension of Inputs and output does not match.\"\n",
    "\n",
    "    # axtive matrix X \n",
    "    X_active = np.zeros(X.shape)\n",
    "    # inactive matrix \n",
    "    X_inactive = copy.deepcopy(X)\n",
    "    # zero matrix for generating inactive matrix\n",
    "    zero_matrix = np.zeros(X.shape)\n",
    "    # beta solution list\n",
    "    beta_ts = np.zeros((D, T))\n",
    "\n",
    "    A = np.array(D*[False])\n",
    "    B = np.array(D*[True])\n",
    "    r = y\n",
    "\n",
    "    for t in range(T): \n",
    "        # 1\n",
    "        # Find most active column or \n",
    "        # maximal correlation with the current residual\n",
    "        correlation = np.abs(np.dot(X.T, r))\n",
    "        j = np.argmax(correlation)\n",
    "\n",
    "        # 2\n",
    "        # set active index to 1\n",
    "        A[j] = True\n",
    "        # remove active index from B and set to 0\n",
    "        B[j] = False\n",
    "\n",
    "        # 3\n",
    "        # Select active A \n",
    "        X_active[:,A] = X[:,A]\n",
    "        X_inactive[:,A] = zero_matrix[:,A]\n",
    "\n",
    "        # 4\n",
    "        # Calculate least squares\n",
    "        beta_t, residue, rank, singular_value = lstsq(X_active, y)\n",
    "\n",
    "        # 5\n",
    "        # Update the residual\n",
    "        r = y - np.dot(X_active, beta_t)\n",
    "\n",
    "        # Stop early if solution is found\n",
    "        if np.sum(r) == 0: \n",
    "            break\n",
    "        \n",
    "        beta_ts[:, t] = beta_t\n",
    "        print(np.linalg.norm(r))\n",
    "        print(\"#\"*40)\n",
    "\n",
    "    return beta_ts"
   ]
  },
  {
   "cell_type": "code",
   "execution_count": 127,
   "metadata": {},
   "outputs": [],
   "source": [
    "X = np.random.randint(5, size=(3,30))\n",
    "y = np.random.randint(5, size=(3))\n",
    "T = 3"
   ]
  },
  {
   "cell_type": "code",
   "execution_count": 128,
   "metadata": {},
   "outputs": [
    {
     "name": "stdout",
     "output_type": "stream",
     "text": [
      "1.4142135623730951\n",
      "########################################\n",
      "0.3922322702763681\n",
      "########################################\n",
      "9.930136612989092e-16\n",
      "########################################\n"
     ]
    }
   ],
   "source": [
    "solutions = omp_regression(X, y, T)"
   ]
  },
  {
   "cell_type": "code",
   "execution_count": null,
   "metadata": {},
   "outputs": [],
   "source": []
  }
 ],
 "metadata": {
  "kernelspec": {
   "display_name": "ml_homework",
   "language": "python",
   "name": "python3"
  },
  "language_info": {
   "codemirror_mode": {
    "name": "ipython",
    "version": 3
   },
   "file_extension": ".py",
   "mimetype": "text/x-python",
   "name": "python",
   "nbconvert_exporter": "python",
   "pygments_lexer": "ipython3",
   "version": "3.11.3"
  },
  "orig_nbformat": 4,
  "vscode": {
   "interpreter": {
    "hash": "e58a8ccaa852cc08331f37e17949d170386811f8cc6b88ac3f9ac5095eeb8162"
   }
  }
 },
 "nbformat": 4,
 "nbformat_minor": 2
}
